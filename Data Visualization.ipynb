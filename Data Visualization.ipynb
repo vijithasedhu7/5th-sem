{
 "cells": [
  {
   "cell_type": "markdown",
   "id": "624579aa",
   "metadata": {},
   "source": [
    "# Data Visualization\n"
   ]
  },
  {
   "cell_type": "code",
   "execution_count": 5,
   "id": "b8846873",
   "metadata": {},
   "outputs": [
    {
     "name": "stderr",
     "output_type": "stream",
     "text": [
      "C:\\Users\\divya\\anaconda3\\Lib\\site-packages\\pandas\\core\\arrays\\masked.py:60: UserWarning: Pandas requires version '1.3.6' or newer of 'bottleneck' (version '1.3.5' currently installed).\n",
      "  from pandas.core import (\n"
     ]
    }
   ],
   "source": [
    "import pandas as pd"
   ]
  },
  {
   "cell_type": "code",
   "execution_count": 9,
   "id": "84d8229a",
   "metadata": {},
   "outputs": [
    {
     "name": "stdout",
     "output_type": "stream",
     "text": [
      "Requirement already satisfied: pandas in c:\\users\\divya\\anaconda3\\lib\\site-packages (2.2.2)Note: you may need to restart the kernel to use updated packages.\n",
      "\n",
      "Requirement already satisfied: numpy>=1.23.2 in c:\\users\\divya\\anaconda3\\lib\\site-packages (from pandas) (1.24.3)\n",
      "Requirement already satisfied: python-dateutil>=2.8.2 in c:\\users\\divya\\anaconda3\\lib\\site-packages (from pandas) (2.8.2)\n",
      "Requirement already satisfied: pytz>=2020.1 in c:\\users\\divya\\anaconda3\\lib\\site-packages (from pandas) (2022.7)\n",
      "Requirement already satisfied: tzdata>=2022.7 in c:\\users\\divya\\anaconda3\\lib\\site-packages (from pandas) (2024.1)\n",
      "Requirement already satisfied: six>=1.5 in c:\\users\\divya\\anaconda3\\lib\\site-packages (from python-dateutil>=2.8.2->pandas) (1.16.0)\n"
     ]
    }
   ],
   "source": [
    "pip install --upgrade pandas --user"
   ]
  },
  {
   "cell_type": "code",
   "execution_count": 10,
   "id": "ca6f1628",
   "metadata": {},
   "outputs": [
    {
     "data": {
      "text/plain": [
       "'2.2.2'"
      ]
     },
     "execution_count": 10,
     "metadata": {},
     "output_type": "execute_result"
    }
   ],
   "source": [
    "pd.__version__"
   ]
  },
  {
   "cell_type": "code",
   "execution_count": 11,
   "id": "1406dd4d",
   "metadata": {},
   "outputs": [],
   "source": [
    "data=pd.read_csv(\"C:/Users/divya/122011012893 5th sem/cats-dataset-metadata.json\")"
   ]
  },
  {
   "cell_type": "code",
   "execution_count": 12,
   "id": "4c6da977",
   "metadata": {},
   "outputs": [
    {
     "data": {
      "text/html": [
       "<div>\n",
       "<style scoped>\n",
       "    .dataframe tbody tr th:only-of-type {\n",
       "        vertical-align: middle;\n",
       "    }\n",
       "\n",
       "    .dataframe tbody tr th {\n",
       "        vertical-align: top;\n",
       "    }\n",
       "\n",
       "    .dataframe thead th {\n",
       "        text-align: right;\n",
       "    }\n",
       "</style>\n",
       "<table border=\"1\" class=\"dataframe\">\n",
       "  <thead>\n",
       "    <tr style=\"text-align: right;\">\n",
       "      <th></th>\n",
       "      <th>{\"@context\":{\"@language\":\"en\"</th>\n",
       "      <th>@vocab:\"https://schema.org/\"</th>\n",
       "      <th>citeAs:\"cr:citeAs\"</th>\n",
       "      <th>column:\"cr:column\"</th>\n",
       "      <th>conformsTo:\"dct:conformsTo\"</th>\n",
       "      <th>cr:\"http://mlcommons.org/croissant/\"</th>\n",
       "      <th>data:{\"@id\":\"cr:data\"</th>\n",
       "      <th>@type:\"@json\"}</th>\n",
       "      <th>dataBiases:\"cr:dataBiases\"</th>\n",
       "      <th>dataCollection:\"cr:dataCollection\"</th>\n",
       "      <th>...</th>\n",
       "      <th>and gender. It has been meticulously curated to represent a wide range of cat breeds and individual differences.\\n\\nBreed: This column specifies the breed of each cat</th>\n",
       "      <th>including popular breeds such as Siamese</th>\n",
       "      <th>Maine Coon</th>\n",
       "      <th>Persian</th>\n",
       "      <th>Bengal</th>\n",
       "      <th>and more.\\nAge (Years): Indicates the age of the cats in years</th>\n",
       "      <th>providing a view of both young kittens and mature adults.\\nWeight (kg): Records the weight of each cat in kilograms</th>\n",
       "      <th>offering insight into the size variations across different breeds and ages.\\nColor: Describes the coat color of the cats</th>\n",
       "      <th>which can range from solid colors like black and white to more unique patterns like calico and tabby.\\nGender: Denotes the gender of each cat</th>\n",
       "      <th>categorized as either Male or Female.\"}</th>\n",
       "    </tr>\n",
       "  </thead>\n",
       "  <tbody>\n",
       "  </tbody>\n",
       "</table>\n",
       "<p>0 rows × 153 columns</p>\n",
       "</div>"
      ],
      "text/plain": [
       "Empty DataFrame\n",
       "Columns: [{\"@context\":{\"@language\":\"en\", @vocab:\"https://schema.org/\", citeAs:\"cr:citeAs\", column:\"cr:column\", conformsTo:\"dct:conformsTo\", cr:\"http://mlcommons.org/croissant/\", data:{\"@id\":\"cr:data\", @type:\"@json\"}, dataBiases:\"cr:dataBiases\", dataCollection:\"cr:dataCollection\", dataType:{\"@id\":\"cr:dataType\", @type:\"@vocab\"}, dct:\"http://purl.org/dc/terms/\", extract:\"cr:extract\", field:\"cr:field\", fileProperty:\"cr:fileProperty\", fileObject:\"cr:fileObject\", fileSet:\"cr:fileSet\", format:\"cr:format\", includes:\"cr:includes\", isEnumeration:\"cr:isEnumeration\", isLiveDataset:\"cr:isLiveDataset\", jsonPath:\"cr:jsonPath\", key:\"cr:key\", md5:\"cr:md5\", parentField:\"cr:parentField\", path:\"cr:path\", personalSensitiveInformation:\"cr:personalSensitiveInformation\", recordSet:\"cr:recordSet\", references:\"cr:references\", regex:\"cr:regex\", repeated:\"cr:repeated\", replace:\"cr:replace\", sc:\"https://schema.org/\", separator:\"cr:separator\", source:\"cr:source\", subField:\"cr:subField\", transform:\"cr:transform\", wd:\"https://www.wikidata.org/wiki/\"}, alternateName:\"Detailed Feline Characteristics \\u0026 Demographics \\uD83D\\uDC31\\u2728\", conformsTo:\"http://mlcommons.org/croissant/1.0\", license:{\"@type\":\"sc:CreativeWork\", name:\"Apache 2.0\", url:\"https://www.apache.org/licenses/LICENSE-2.0\"}, distribution:[{\"contentUrl\":\"https://www.kaggle.com/api/v1/datasets/download/waqi786/cats-dataset?datasetVersionNumber=1\", contentSize:\"5.521 KB\", md5:\"Oq6R4vyLGuoUC556X8q\\u002BpQ==\", encodingFormat:\"application/zip\", @id:\"archive.zip\", @type:\"cr:FileObject\", name:\"archive.zip\", description:\"Archive containing all the contents of the \\uD83D\\uDC3E Cats Dataset dataset\"}, {\"contentUrl\":\"cats_dataset.csv\", containedIn:{\"@id\":\"archive.zip\"}, encodingFormat:\"text/csv\", @id:\"cats_dataset.csv_fileobject\", @type:\"cr:FileObject\".1, name:\"cats_dataset.csv\", description:\"This file contains the comprehensive \\u0022Cats Dataset, \\u0022 which includes detailed records of 1000 individual cats. The dataset provides valuable information on each cat\\u0027s breed,  age,  weight,  color,  and gender. It is structured in a tabular format,  making it easy to analyze and interpret.\\n\\nFormat: CSV (Comma-Separated Values)\\nNumber of Records: 1000 rows,  each representing a unique cat.\\nColumns: 5 columns,  detailing various attributes of the cats:\\nBreed: The breed of the cat.\\nAge (Years): The age of the cat in years.\\nWeight (kg): The weight of the cat in kilograms.\\nColor: The color of the cat\\u0027s coat.\\nGender: The gender of the cat (Male or Female).\"}], recordSet:[{\"field\":[{\"dataType\":[\"sc:Text\"], source:{\"fileObject\":{\"@id\":\"cats_dataset.csv_fileobject\"}, extract:{\"column\":\"Breed\"}}, @id:\"cats_dataset.csv/Breed\", @type:\"cr:Field\", name:\"Breed\", description:\"Siamese\"}, {\"dataType\":[\"sc:Integer\"], source:{\"fileObject\":{\"@id\":\"cats_dataset.csv_fileobject\"}.1, extract:{\"column\":\"Age (Years)\"}}, @id:\"cats_dataset.csv/Age\\u002B(Years)\", @type:\"cr:Field\".1, name:\"Age (Years)\", description:\"3\"}, {\"dataType\":[\"sc:Integer\"].1, source:{\"fileObject\":{\"@id\":\"cats_dataset.csv_fileobject\"}.2, extract:{\"column\":\"Weight (kg)\"}}, @id:\"cats_dataset.csv/Weight\\u002B(kg)\", @type:\"cr:Field\".2, name:\"Weight (kg)\", description:\"4.5\"}, {\"dataType\":[\"sc:Text\"], source:{\"fileObject\":{\"@id\":\"cats_dataset.csv_fileobject\"}.3, extract:{\"column\":\"Color\"}}, @id:\"cats_dataset.csv/Color\", @type:\"cr:Field\".3, name:\"Color\", description:\"Black\"}, {\"dataType\":[\"sc:Text\"].1, source:{\"fileObject\":{\"@id\":\"cats_dataset.csv_fileobject\"}.4, extract:{\"column\":\"Gender\"}}, @id:\"cats_dataset.csv/Gender\", @type:\"cr:Field\".4, ...]\n",
       "Index: []\n",
       "\n",
       "[0 rows x 153 columns]"
      ]
     },
     "execution_count": 12,
     "metadata": {},
     "output_type": "execute_result"
    }
   ],
   "source": [
    "data"
   ]
  },
  {
   "cell_type": "code",
   "execution_count": 1,
   "id": "91ccf621",
   "metadata": {},
   "outputs": [
    {
     "name": "stdout",
     "output_type": "stream",
     "text": [
      "Requirement already satisfied: matplotlib in c:\\users\\divya\\anaconda3\\lib\\site-packages (3.7.1)\n",
      "Requirement already satisfied: contourpy>=1.0.1 in c:\\users\\divya\\anaconda3\\lib\\site-packages (from matplotlib) (1.0.5)\n",
      "Requirement already satisfied: cycler>=0.10 in c:\\users\\divya\\anaconda3\\lib\\site-packages (from matplotlib) (0.11.0)\n",
      "Requirement already satisfied: fonttools>=4.22.0 in c:\\users\\divya\\anaconda3\\lib\\site-packages (from matplotlib) (4.25.0)\n",
      "Requirement already satisfied: kiwisolver>=1.0.1 in c:\\users\\divya\\anaconda3\\lib\\site-packages (from matplotlib) (1.4.4)\n",
      "Requirement already satisfied: numpy>=1.20 in c:\\users\\divya\\anaconda3\\lib\\site-packages (from matplotlib) (1.24.3)\n",
      "Requirement already satisfied: packaging>=20.0 in c:\\users\\divya\\anaconda3\\lib\\site-packages (from matplotlib) (23.0)\n",
      "Requirement already satisfied: pillow>=6.2.0 in c:\\users\\divya\\anaconda3\\lib\\site-packages (from matplotlib) (9.4.0)\n",
      "Requirement already satisfied: pyparsing>=2.3.1 in c:\\users\\divya\\anaconda3\\lib\\site-packages (from matplotlib) (3.0.9)\n",
      "Requirement already satisfied: python-dateutil>=2.7 in c:\\users\\divya\\anaconda3\\lib\\site-packages (from matplotlib) (2.8.2)\n",
      "Requirement already satisfied: six>=1.5 in c:\\users\\divya\\anaconda3\\lib\\site-packages (from python-dateutil>=2.7->matplotlib) (1.16.0)\n",
      "Note: you may need to restart the kernel to use updated packages.\n"
     ]
    }
   ],
   "source": [
    "pip install matplotlib"
   ]
  },
  {
   "cell_type": "code",
   "execution_count": 3,
   "id": "2e99bccc",
   "metadata": {},
   "outputs": [],
   "source": [
    "import matplotlib.pyplot as pt\n",
    "%matplotlib inline"
   ]
  },
  {
   "cell_type": "code",
   "execution_count": null,
   "id": "80b18718",
   "metadata": {},
   "outputs": [],
   "source": []
  }
 ],
 "metadata": {
  "kernelspec": {
   "display_name": "Python 3 (ipykernel)",
   "language": "python",
   "name": "python3"
  },
  "language_info": {
   "codemirror_mode": {
    "name": "ipython",
    "version": 3
   },
   "file_extension": ".py",
   "mimetype": "text/x-python",
   "name": "python",
   "nbconvert_exporter": "python",
   "pygments_lexer": "ipython3",
   "version": "3.11.4"
  }
 },
 "nbformat": 4,
 "nbformat_minor": 5
}
