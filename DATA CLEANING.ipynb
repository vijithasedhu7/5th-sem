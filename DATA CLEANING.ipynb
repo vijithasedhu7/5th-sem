{
 "cells": [
  {
   "cell_type": "markdown",
   "id": "cb799af0",
   "metadata": {},
   "source": [
    "# DATA CLEANING"
   ]
  },
  {
   "cell_type": "code",
   "execution_count": null,
   "id": "790741b8",
   "metadata": {},
   "outputs": [],
   "source": []
  },
  {
   "cell_type": "code",
   "execution_count": 1,
   "id": "158e5667",
   "metadata": {},
   "outputs": [
    {
     "name": "stderr",
     "output_type": "stream",
     "text": [
      "C:\\Users\\divya\\anaconda3\\Lib\\site-packages\\pandas\\core\\arrays\\masked.py:60: UserWarning: Pandas requires version '1.3.6' or newer of 'bottleneck' (version '1.3.5' currently installed).\n",
      "  from pandas.core import (\n"
     ]
    }
   ],
   "source": [
    "import pandas as pd\n"
   ]
  },
  {
   "cell_type": "code",
   "execution_count": 2,
   "id": "ffdcf1be",
   "metadata": {},
   "outputs": [],
   "source": [
    "import numpy as np"
   ]
  },
  {
   "cell_type": "code",
   "execution_count": 3,
   "id": "bd89c62a",
   "metadata": {},
   "outputs": [],
   "source": [
    "File=pd.read_csv(\"WATCHES.csv\")"
   ]
  },
  {
   "cell_type": "code",
   "execution_count": 4,
   "id": "ed599969",
   "metadata": {},
   "outputs": [
    {
     "data": {
      "text/html": [
       "<div>\n",
       "<style scoped>\n",
       "    .dataframe tbody tr th:only-of-type {\n",
       "        vertical-align: middle;\n",
       "    }\n",
       "\n",
       "    .dataframe tbody tr th {\n",
       "        vertical-align: top;\n",
       "    }\n",
       "\n",
       "    .dataframe thead th {\n",
       "        text-align: right;\n",
       "    }\n",
       "</style>\n",
       "<table border=\"1\" class=\"dataframe\">\n",
       "  <thead>\n",
       "    <tr style=\"text-align: right;\">\n",
       "      <th></th>\n",
       "      <th>Unnamed: 0</th>\n",
       "      <th>Name</th>\n",
       "      <th>price</th>\n",
       "      <th>offer</th>\n",
       "    </tr>\n",
       "  </thead>\n",
       "  <tbody>\n",
       "    <tr>\n",
       "      <th>0</th>\n",
       "      <td>0</td>\n",
       "      <td>WATCHVERSE Beautiful Dail Analog chain Watche...</td>\n",
       "      <td>&lt;span class=\"jm-heading-xxs jm-mb-xxs\"&gt;₹209.00...</td>\n",
       "      <td>&lt;span class=\"jm-badge\"&gt; 79% OFF &lt;/span&gt;</td>\n",
       "    </tr>\n",
       "    <tr>\n",
       "      <th>1</th>\n",
       "      <td>1</td>\n",
       "      <td>Acnos Brand Digital Silver Vintage Square Dia...</td>\n",
       "      <td>&lt;span class=\"jm-heading-xxs jm-mb-xxs\"&gt;₹229.00...</td>\n",
       "      <td>&lt;span class=\"jm-badge\"&gt; 84% OFF &lt;/span&gt;</td>\n",
       "    </tr>\n",
       "    <tr>\n",
       "      <th>2</th>\n",
       "      <td>2</td>\n",
       "      <td>ILOZ Luxury New Elegance Rose Gold white Wome...</td>\n",
       "      <td>&lt;span class=\"jm-heading-xxs jm-mb-xxs\"&gt;₹299.00...</td>\n",
       "      <td>&lt;span class=\"jm-badge\"&gt; 62% OFF &lt;/span&gt;</td>\n",
       "    </tr>\n",
       "    <tr>\n",
       "      <th>3</th>\n",
       "      <td>3</td>\n",
       "      <td>Acnos Digital Pink Vintage Square Dial Unisex...</td>\n",
       "      <td>&lt;span class=\"jm-heading-xxs jm-mb-xxs\"&gt;₹229.00...</td>\n",
       "      <td>&lt;span class=\"jm-badge\"&gt; 84% OFF &lt;/span&gt;</td>\n",
       "    </tr>\n",
       "    <tr>\n",
       "      <th>4</th>\n",
       "      <td>4</td>\n",
       "      <td>Acnos Analog White Dial Rose Gold Strap Watch...</td>\n",
       "      <td>&lt;span class=\"jm-heading-xxs jm-mb-xxs\"&gt;₹209.00...</td>\n",
       "      <td>&lt;span class=\"jm-badge\"&gt; 89% OFF &lt;/span&gt;</td>\n",
       "    </tr>\n",
       "    <tr>\n",
       "      <th>5</th>\n",
       "      <td>5</td>\n",
       "      <td>LOUIS DEVIN Analog Rose Gold Dial Gold Plated...</td>\n",
       "      <td>&lt;span class=\"jm-heading-xxs jm-mb-xxs\"&gt;₹349.00...</td>\n",
       "      <td>&lt;span class=\"jm-badge\"&gt; 86% OFF &lt;/span&gt;</td>\n",
       "    </tr>\n",
       "    <tr>\n",
       "      <th>6</th>\n",
       "      <td>6</td>\n",
       "      <td>FOGG 4075-SL Elegant Design Analog Watch - Fo...</td>\n",
       "      <td>&lt;span class=\"jm-heading-xxs jm-mb-xxs\"&gt;₹259.00...</td>\n",
       "      <td>&lt;span class=\"jm-badge\"&gt; 85% OFF &lt;/span&gt;</td>\n",
       "    </tr>\n",
       "    <tr>\n",
       "      <th>7</th>\n",
       "      <td>7</td>\n",
       "      <td>Lorenz Slim Case Analog Watch with Black Magn...</td>\n",
       "      <td>&lt;span class=\"jm-heading-xxs jm-mb-xxs\"&gt;₹380.00...</td>\n",
       "      <td>&lt;span class=\"jm-badge\"&gt; 84% OFF &lt;/span&gt;</td>\n",
       "    </tr>\n",
       "    <tr>\n",
       "      <th>8</th>\n",
       "      <td>8</td>\n",
       "      <td>Acnos Brand Exclusive Choice Blue Diamond Stu...</td>\n",
       "      <td>&lt;span class=\"jm-heading-xxs jm-mb-xxs\"&gt;₹199.00...</td>\n",
       "      <td>&lt;span class=\"jm-badge\"&gt; 80% OFF &lt;/span&gt;</td>\n",
       "    </tr>\n",
       "    <tr>\n",
       "      <th>9</th>\n",
       "      <td>9</td>\n",
       "      <td>LIMESTONE Analog Brown, Silver Dial Brown Str...</td>\n",
       "      <td>&lt;span class=\"jm-heading-xxs jm-mb-xxs\"&gt;₹279.00...</td>\n",
       "      <td>&lt;span class=\"jm-badge\"&gt; 90% OFF &lt;/span&gt;</td>\n",
       "    </tr>\n",
       "    <tr>\n",
       "      <th>10</th>\n",
       "      <td>10</td>\n",
       "      <td>Missfox diamond Analog Watch - For Girls Fanc...</td>\n",
       "      <td>&lt;span class=\"jm-heading-xxs jm-mb-xxs\"&gt;₹299.00...</td>\n",
       "      <td>&lt;span class=\"jm-badge\"&gt; 80% OFF &lt;/span&gt;</td>\n",
       "    </tr>\n",
       "    <tr>\n",
       "      <th>11</th>\n",
       "      <td>11</td>\n",
       "      <td>SWADESI STUFF Analogue White Dail Watch For W...</td>\n",
       "      <td>&lt;span class=\"jm-heading-xxs jm-mb-xxs\"&gt;₹129.00...</td>\n",
       "      <td>&lt;span class=\"jm-badge\"&gt; 90% OFF &lt;/span&gt;</td>\n",
       "    </tr>\n",
       "  </tbody>\n",
       "</table>\n",
       "</div>"
      ],
      "text/plain": [
       "    Unnamed: 0                                               Name  \\\n",
       "0            0   WATCHVERSE Beautiful Dail Analog chain Watche...   \n",
       "1            1   Acnos Brand Digital Silver Vintage Square Dia...   \n",
       "2            2   ILOZ Luxury New Elegance Rose Gold white Wome...   \n",
       "3            3   Acnos Digital Pink Vintage Square Dial Unisex...   \n",
       "4            4   Acnos Analog White Dial Rose Gold Strap Watch...   \n",
       "5            5   LOUIS DEVIN Analog Rose Gold Dial Gold Plated...   \n",
       "6            6   FOGG 4075-SL Elegant Design Analog Watch - Fo...   \n",
       "7            7   Lorenz Slim Case Analog Watch with Black Magn...   \n",
       "8            8   Acnos Brand Exclusive Choice Blue Diamond Stu...   \n",
       "9            9   LIMESTONE Analog Brown, Silver Dial Brown Str...   \n",
       "10          10   Missfox diamond Analog Watch - For Girls Fanc...   \n",
       "11          11   SWADESI STUFF Analogue White Dail Watch For W...   \n",
       "\n",
       "                                                price  \\\n",
       "0   <span class=\"jm-heading-xxs jm-mb-xxs\">₹209.00...   \n",
       "1   <span class=\"jm-heading-xxs jm-mb-xxs\">₹229.00...   \n",
       "2   <span class=\"jm-heading-xxs jm-mb-xxs\">₹299.00...   \n",
       "3   <span class=\"jm-heading-xxs jm-mb-xxs\">₹229.00...   \n",
       "4   <span class=\"jm-heading-xxs jm-mb-xxs\">₹209.00...   \n",
       "5   <span class=\"jm-heading-xxs jm-mb-xxs\">₹349.00...   \n",
       "6   <span class=\"jm-heading-xxs jm-mb-xxs\">₹259.00...   \n",
       "7   <span class=\"jm-heading-xxs jm-mb-xxs\">₹380.00...   \n",
       "8   <span class=\"jm-heading-xxs jm-mb-xxs\">₹199.00...   \n",
       "9   <span class=\"jm-heading-xxs jm-mb-xxs\">₹279.00...   \n",
       "10  <span class=\"jm-heading-xxs jm-mb-xxs\">₹299.00...   \n",
       "11  <span class=\"jm-heading-xxs jm-mb-xxs\">₹129.00...   \n",
       "\n",
       "                                      offer  \n",
       "0   <span class=\"jm-badge\"> 79% OFF </span>  \n",
       "1   <span class=\"jm-badge\"> 84% OFF </span>  \n",
       "2   <span class=\"jm-badge\"> 62% OFF </span>  \n",
       "3   <span class=\"jm-badge\"> 84% OFF </span>  \n",
       "4   <span class=\"jm-badge\"> 89% OFF </span>  \n",
       "5   <span class=\"jm-badge\"> 86% OFF </span>  \n",
       "6   <span class=\"jm-badge\"> 85% OFF </span>  \n",
       "7   <span class=\"jm-badge\"> 84% OFF </span>  \n",
       "8   <span class=\"jm-badge\"> 80% OFF </span>  \n",
       "9   <span class=\"jm-badge\"> 90% OFF </span>  \n",
       "10  <span class=\"jm-badge\"> 80% OFF </span>  \n",
       "11  <span class=\"jm-badge\"> 90% OFF </span>  "
      ]
     },
     "execution_count": 4,
     "metadata": {},
     "output_type": "execute_result"
    }
   ],
   "source": [
    "File"
   ]
  },
  {
   "cell_type": "code",
   "execution_count": 5,
   "id": "6f07d5f9",
   "metadata": {},
   "outputs": [
    {
     "data": {
      "text/html": [
       "<div>\n",
       "<style scoped>\n",
       "    .dataframe tbody tr th:only-of-type {\n",
       "        vertical-align: middle;\n",
       "    }\n",
       "\n",
       "    .dataframe tbody tr th {\n",
       "        vertical-align: top;\n",
       "    }\n",
       "\n",
       "    .dataframe thead th {\n",
       "        text-align: right;\n",
       "    }\n",
       "</style>\n",
       "<table border=\"1\" class=\"dataframe\">\n",
       "  <thead>\n",
       "    <tr style=\"text-align: right;\">\n",
       "      <th></th>\n",
       "      <th>Name</th>\n",
       "      <th>price</th>\n",
       "      <th>offer</th>\n",
       "    </tr>\n",
       "  </thead>\n",
       "  <tbody>\n",
       "    <tr>\n",
       "      <th>0</th>\n",
       "      <td>WATCHVERSE Beautiful Dail Analog chain Watche...</td>\n",
       "      <td>&lt;span class=\"jm-heading-xxs jm-mb-xxs\"&gt;₹209.00...</td>\n",
       "      <td>&lt;span class=\"jm-badge\"&gt; 79% OFF &lt;/span&gt;</td>\n",
       "    </tr>\n",
       "    <tr>\n",
       "      <th>1</th>\n",
       "      <td>Acnos Brand Digital Silver Vintage Square Dia...</td>\n",
       "      <td>&lt;span class=\"jm-heading-xxs jm-mb-xxs\"&gt;₹229.00...</td>\n",
       "      <td>&lt;span class=\"jm-badge\"&gt; 84% OFF &lt;/span&gt;</td>\n",
       "    </tr>\n",
       "    <tr>\n",
       "      <th>2</th>\n",
       "      <td>ILOZ Luxury New Elegance Rose Gold white Wome...</td>\n",
       "      <td>&lt;span class=\"jm-heading-xxs jm-mb-xxs\"&gt;₹299.00...</td>\n",
       "      <td>&lt;span class=\"jm-badge\"&gt; 62% OFF &lt;/span&gt;</td>\n",
       "    </tr>\n",
       "    <tr>\n",
       "      <th>3</th>\n",
       "      <td>Acnos Digital Pink Vintage Square Dial Unisex...</td>\n",
       "      <td>&lt;span class=\"jm-heading-xxs jm-mb-xxs\"&gt;₹229.00...</td>\n",
       "      <td>&lt;span class=\"jm-badge\"&gt; 84% OFF &lt;/span&gt;</td>\n",
       "    </tr>\n",
       "    <tr>\n",
       "      <th>4</th>\n",
       "      <td>Acnos Analog White Dial Rose Gold Strap Watch...</td>\n",
       "      <td>&lt;span class=\"jm-heading-xxs jm-mb-xxs\"&gt;₹209.00...</td>\n",
       "      <td>&lt;span class=\"jm-badge\"&gt; 89% OFF &lt;/span&gt;</td>\n",
       "    </tr>\n",
       "    <tr>\n",
       "      <th>5</th>\n",
       "      <td>LOUIS DEVIN Analog Rose Gold Dial Gold Plated...</td>\n",
       "      <td>&lt;span class=\"jm-heading-xxs jm-mb-xxs\"&gt;₹349.00...</td>\n",
       "      <td>&lt;span class=\"jm-badge\"&gt; 86% OFF &lt;/span&gt;</td>\n",
       "    </tr>\n",
       "    <tr>\n",
       "      <th>6</th>\n",
       "      <td>FOGG 4075-SL Elegant Design Analog Watch - Fo...</td>\n",
       "      <td>&lt;span class=\"jm-heading-xxs jm-mb-xxs\"&gt;₹259.00...</td>\n",
       "      <td>&lt;span class=\"jm-badge\"&gt; 85% OFF &lt;/span&gt;</td>\n",
       "    </tr>\n",
       "    <tr>\n",
       "      <th>7</th>\n",
       "      <td>Lorenz Slim Case Analog Watch with Black Magn...</td>\n",
       "      <td>&lt;span class=\"jm-heading-xxs jm-mb-xxs\"&gt;₹380.00...</td>\n",
       "      <td>&lt;span class=\"jm-badge\"&gt; 84% OFF &lt;/span&gt;</td>\n",
       "    </tr>\n",
       "    <tr>\n",
       "      <th>8</th>\n",
       "      <td>Acnos Brand Exclusive Choice Blue Diamond Stu...</td>\n",
       "      <td>&lt;span class=\"jm-heading-xxs jm-mb-xxs\"&gt;₹199.00...</td>\n",
       "      <td>&lt;span class=\"jm-badge\"&gt; 80% OFF &lt;/span&gt;</td>\n",
       "    </tr>\n",
       "    <tr>\n",
       "      <th>9</th>\n",
       "      <td>LIMESTONE Analog Brown, Silver Dial Brown Str...</td>\n",
       "      <td>&lt;span class=\"jm-heading-xxs jm-mb-xxs\"&gt;₹279.00...</td>\n",
       "      <td>&lt;span class=\"jm-badge\"&gt; 90% OFF &lt;/span&gt;</td>\n",
       "    </tr>\n",
       "    <tr>\n",
       "      <th>10</th>\n",
       "      <td>Missfox diamond Analog Watch - For Girls Fanc...</td>\n",
       "      <td>&lt;span class=\"jm-heading-xxs jm-mb-xxs\"&gt;₹299.00...</td>\n",
       "      <td>&lt;span class=\"jm-badge\"&gt; 80% OFF &lt;/span&gt;</td>\n",
       "    </tr>\n",
       "    <tr>\n",
       "      <th>11</th>\n",
       "      <td>SWADESI STUFF Analogue White Dail Watch For W...</td>\n",
       "      <td>&lt;span class=\"jm-heading-xxs jm-mb-xxs\"&gt;₹129.00...</td>\n",
       "      <td>&lt;span class=\"jm-badge\"&gt; 90% OFF &lt;/span&gt;</td>\n",
       "    </tr>\n",
       "  </tbody>\n",
       "</table>\n",
       "</div>"
      ],
      "text/plain": [
       "                                                 Name  \\\n",
       "0    WATCHVERSE Beautiful Dail Analog chain Watche...   \n",
       "1    Acnos Brand Digital Silver Vintage Square Dia...   \n",
       "2    ILOZ Luxury New Elegance Rose Gold white Wome...   \n",
       "3    Acnos Digital Pink Vintage Square Dial Unisex...   \n",
       "4    Acnos Analog White Dial Rose Gold Strap Watch...   \n",
       "5    LOUIS DEVIN Analog Rose Gold Dial Gold Plated...   \n",
       "6    FOGG 4075-SL Elegant Design Analog Watch - Fo...   \n",
       "7    Lorenz Slim Case Analog Watch with Black Magn...   \n",
       "8    Acnos Brand Exclusive Choice Blue Diamond Stu...   \n",
       "9    LIMESTONE Analog Brown, Silver Dial Brown Str...   \n",
       "10   Missfox diamond Analog Watch - For Girls Fanc...   \n",
       "11   SWADESI STUFF Analogue White Dail Watch For W...   \n",
       "\n",
       "                                                price  \\\n",
       "0   <span class=\"jm-heading-xxs jm-mb-xxs\">₹209.00...   \n",
       "1   <span class=\"jm-heading-xxs jm-mb-xxs\">₹229.00...   \n",
       "2   <span class=\"jm-heading-xxs jm-mb-xxs\">₹299.00...   \n",
       "3   <span class=\"jm-heading-xxs jm-mb-xxs\">₹229.00...   \n",
       "4   <span class=\"jm-heading-xxs jm-mb-xxs\">₹209.00...   \n",
       "5   <span class=\"jm-heading-xxs jm-mb-xxs\">₹349.00...   \n",
       "6   <span class=\"jm-heading-xxs jm-mb-xxs\">₹259.00...   \n",
       "7   <span class=\"jm-heading-xxs jm-mb-xxs\">₹380.00...   \n",
       "8   <span class=\"jm-heading-xxs jm-mb-xxs\">₹199.00...   \n",
       "9   <span class=\"jm-heading-xxs jm-mb-xxs\">₹279.00...   \n",
       "10  <span class=\"jm-heading-xxs jm-mb-xxs\">₹299.00...   \n",
       "11  <span class=\"jm-heading-xxs jm-mb-xxs\">₹129.00...   \n",
       "\n",
       "                                      offer  \n",
       "0   <span class=\"jm-badge\"> 79% OFF </span>  \n",
       "1   <span class=\"jm-badge\"> 84% OFF </span>  \n",
       "2   <span class=\"jm-badge\"> 62% OFF </span>  \n",
       "3   <span class=\"jm-badge\"> 84% OFF </span>  \n",
       "4   <span class=\"jm-badge\"> 89% OFF </span>  \n",
       "5   <span class=\"jm-badge\"> 86% OFF </span>  \n",
       "6   <span class=\"jm-badge\"> 85% OFF </span>  \n",
       "7   <span class=\"jm-badge\"> 84% OFF </span>  \n",
       "8   <span class=\"jm-badge\"> 80% OFF </span>  \n",
       "9   <span class=\"jm-badge\"> 90% OFF </span>  \n",
       "10  <span class=\"jm-badge\"> 80% OFF </span>  \n",
       "11  <span class=\"jm-badge\"> 90% OFF </span>  "
      ]
     },
     "execution_count": 5,
     "metadata": {},
     "output_type": "execute_result"
    }
   ],
   "source": [
    "File.drop(\"Unnamed: 0\",axis=1)"
   ]
  },
  {
   "cell_type": "code",
   "execution_count": 6,
   "id": "12e24960",
   "metadata": {},
   "outputs": [],
   "source": [
    "File[\"offer\"]=File[\"offer\"].str.strip('<span class=\"jm-badge\">,</span>,% OFF').astype(str)"
   ]
  },
  {
   "cell_type": "code",
   "execution_count": 7,
   "id": "63bc9cdc",
   "metadata": {},
   "outputs": [
    {
     "data": {
      "text/html": [
       "<div>\n",
       "<style scoped>\n",
       "    .dataframe tbody tr th:only-of-type {\n",
       "        vertical-align: middle;\n",
       "    }\n",
       "\n",
       "    .dataframe tbody tr th {\n",
       "        vertical-align: top;\n",
       "    }\n",
       "\n",
       "    .dataframe thead th {\n",
       "        text-align: right;\n",
       "    }\n",
       "</style>\n",
       "<table border=\"1\" class=\"dataframe\">\n",
       "  <thead>\n",
       "    <tr style=\"text-align: right;\">\n",
       "      <th></th>\n",
       "      <th>Unnamed: 0</th>\n",
       "      <th>Name</th>\n",
       "      <th>price</th>\n",
       "      <th>offer</th>\n",
       "    </tr>\n",
       "  </thead>\n",
       "  <tbody>\n",
       "    <tr>\n",
       "      <th>0</th>\n",
       "      <td>0</td>\n",
       "      <td>WATCHVERSE Beautiful Dail Analog chain Watche...</td>\n",
       "      <td>&lt;span class=\"jm-heading-xxs jm-mb-xxs\"&gt;₹209.00...</td>\n",
       "      <td>79</td>\n",
       "    </tr>\n",
       "    <tr>\n",
       "      <th>1</th>\n",
       "      <td>1</td>\n",
       "      <td>Acnos Brand Digital Silver Vintage Square Dia...</td>\n",
       "      <td>&lt;span class=\"jm-heading-xxs jm-mb-xxs\"&gt;₹229.00...</td>\n",
       "      <td>84</td>\n",
       "    </tr>\n",
       "    <tr>\n",
       "      <th>2</th>\n",
       "      <td>2</td>\n",
       "      <td>ILOZ Luxury New Elegance Rose Gold white Wome...</td>\n",
       "      <td>&lt;span class=\"jm-heading-xxs jm-mb-xxs\"&gt;₹299.00...</td>\n",
       "      <td>62</td>\n",
       "    </tr>\n",
       "    <tr>\n",
       "      <th>3</th>\n",
       "      <td>3</td>\n",
       "      <td>Acnos Digital Pink Vintage Square Dial Unisex...</td>\n",
       "      <td>&lt;span class=\"jm-heading-xxs jm-mb-xxs\"&gt;₹229.00...</td>\n",
       "      <td>84</td>\n",
       "    </tr>\n",
       "    <tr>\n",
       "      <th>4</th>\n",
       "      <td>4</td>\n",
       "      <td>Acnos Analog White Dial Rose Gold Strap Watch...</td>\n",
       "      <td>&lt;span class=\"jm-heading-xxs jm-mb-xxs\"&gt;₹209.00...</td>\n",
       "      <td>89</td>\n",
       "    </tr>\n",
       "    <tr>\n",
       "      <th>5</th>\n",
       "      <td>5</td>\n",
       "      <td>LOUIS DEVIN Analog Rose Gold Dial Gold Plated...</td>\n",
       "      <td>&lt;span class=\"jm-heading-xxs jm-mb-xxs\"&gt;₹349.00...</td>\n",
       "      <td>86</td>\n",
       "    </tr>\n",
       "    <tr>\n",
       "      <th>6</th>\n",
       "      <td>6</td>\n",
       "      <td>FOGG 4075-SL Elegant Design Analog Watch - Fo...</td>\n",
       "      <td>&lt;span class=\"jm-heading-xxs jm-mb-xxs\"&gt;₹259.00...</td>\n",
       "      <td>85</td>\n",
       "    </tr>\n",
       "    <tr>\n",
       "      <th>7</th>\n",
       "      <td>7</td>\n",
       "      <td>Lorenz Slim Case Analog Watch with Black Magn...</td>\n",
       "      <td>&lt;span class=\"jm-heading-xxs jm-mb-xxs\"&gt;₹380.00...</td>\n",
       "      <td>84</td>\n",
       "    </tr>\n",
       "    <tr>\n",
       "      <th>8</th>\n",
       "      <td>8</td>\n",
       "      <td>Acnos Brand Exclusive Choice Blue Diamond Stu...</td>\n",
       "      <td>&lt;span class=\"jm-heading-xxs jm-mb-xxs\"&gt;₹199.00...</td>\n",
       "      <td>80</td>\n",
       "    </tr>\n",
       "    <tr>\n",
       "      <th>9</th>\n",
       "      <td>9</td>\n",
       "      <td>LIMESTONE Analog Brown, Silver Dial Brown Str...</td>\n",
       "      <td>&lt;span class=\"jm-heading-xxs jm-mb-xxs\"&gt;₹279.00...</td>\n",
       "      <td>90</td>\n",
       "    </tr>\n",
       "    <tr>\n",
       "      <th>10</th>\n",
       "      <td>10</td>\n",
       "      <td>Missfox diamond Analog Watch - For Girls Fanc...</td>\n",
       "      <td>&lt;span class=\"jm-heading-xxs jm-mb-xxs\"&gt;₹299.00...</td>\n",
       "      <td>80</td>\n",
       "    </tr>\n",
       "    <tr>\n",
       "      <th>11</th>\n",
       "      <td>11</td>\n",
       "      <td>SWADESI STUFF Analogue White Dail Watch For W...</td>\n",
       "      <td>&lt;span class=\"jm-heading-xxs jm-mb-xxs\"&gt;₹129.00...</td>\n",
       "      <td>90</td>\n",
       "    </tr>\n",
       "  </tbody>\n",
       "</table>\n",
       "</div>"
      ],
      "text/plain": [
       "    Unnamed: 0                                               Name  \\\n",
       "0            0   WATCHVERSE Beautiful Dail Analog chain Watche...   \n",
       "1            1   Acnos Brand Digital Silver Vintage Square Dia...   \n",
       "2            2   ILOZ Luxury New Elegance Rose Gold white Wome...   \n",
       "3            3   Acnos Digital Pink Vintage Square Dial Unisex...   \n",
       "4            4   Acnos Analog White Dial Rose Gold Strap Watch...   \n",
       "5            5   LOUIS DEVIN Analog Rose Gold Dial Gold Plated...   \n",
       "6            6   FOGG 4075-SL Elegant Design Analog Watch - Fo...   \n",
       "7            7   Lorenz Slim Case Analog Watch with Black Magn...   \n",
       "8            8   Acnos Brand Exclusive Choice Blue Diamond Stu...   \n",
       "9            9   LIMESTONE Analog Brown, Silver Dial Brown Str...   \n",
       "10          10   Missfox diamond Analog Watch - For Girls Fanc...   \n",
       "11          11   SWADESI STUFF Analogue White Dail Watch For W...   \n",
       "\n",
       "                                                price offer  \n",
       "0   <span class=\"jm-heading-xxs jm-mb-xxs\">₹209.00...    79  \n",
       "1   <span class=\"jm-heading-xxs jm-mb-xxs\">₹229.00...    84  \n",
       "2   <span class=\"jm-heading-xxs jm-mb-xxs\">₹299.00...    62  \n",
       "3   <span class=\"jm-heading-xxs jm-mb-xxs\">₹229.00...    84  \n",
       "4   <span class=\"jm-heading-xxs jm-mb-xxs\">₹209.00...    89  \n",
       "5   <span class=\"jm-heading-xxs jm-mb-xxs\">₹349.00...    86  \n",
       "6   <span class=\"jm-heading-xxs jm-mb-xxs\">₹259.00...    85  \n",
       "7   <span class=\"jm-heading-xxs jm-mb-xxs\">₹380.00...    84  \n",
       "8   <span class=\"jm-heading-xxs jm-mb-xxs\">₹199.00...    80  \n",
       "9   <span class=\"jm-heading-xxs jm-mb-xxs\">₹279.00...    90  \n",
       "10  <span class=\"jm-heading-xxs jm-mb-xxs\">₹299.00...    80  \n",
       "11  <span class=\"jm-heading-xxs jm-mb-xxs\">₹129.00...    90  "
      ]
     },
     "execution_count": 7,
     "metadata": {},
     "output_type": "execute_result"
    }
   ],
   "source": [
    "File"
   ]
  },
  {
   "cell_type": "code",
   "execution_count": 8,
   "id": "c35a0a17",
   "metadata": {},
   "outputs": [],
   "source": [
    "File[\"price\"]=File[\"price\"].str.strip('<span class=\"jm-heading-xxs jm-mb-xxs\">,</').astype(str)"
   ]
  },
  {
   "cell_type": "code",
   "execution_count": 9,
   "id": "4a8b23fd",
   "metadata": {},
   "outputs": [
    {
     "data": {
      "text/html": [
       "<div>\n",
       "<style scoped>\n",
       "    .dataframe tbody tr th:only-of-type {\n",
       "        vertical-align: middle;\n",
       "    }\n",
       "\n",
       "    .dataframe tbody tr th {\n",
       "        vertical-align: top;\n",
       "    }\n",
       "\n",
       "    .dataframe thead th {\n",
       "        text-align: right;\n",
       "    }\n",
       "</style>\n",
       "<table border=\"1\" class=\"dataframe\">\n",
       "  <thead>\n",
       "    <tr style=\"text-align: right;\">\n",
       "      <th></th>\n",
       "      <th>Unnamed: 0</th>\n",
       "      <th>Name</th>\n",
       "      <th>price</th>\n",
       "      <th>offer</th>\n",
       "    </tr>\n",
       "  </thead>\n",
       "  <tbody>\n",
       "    <tr>\n",
       "      <th>0</th>\n",
       "      <td>0</td>\n",
       "      <td>WATCHVERSE Beautiful Dail Analog chain Watche...</td>\n",
       "      <td>₹209.00</td>\n",
       "      <td>79</td>\n",
       "    </tr>\n",
       "    <tr>\n",
       "      <th>1</th>\n",
       "      <td>1</td>\n",
       "      <td>Acnos Brand Digital Silver Vintage Square Dia...</td>\n",
       "      <td>₹229.00</td>\n",
       "      <td>84</td>\n",
       "    </tr>\n",
       "    <tr>\n",
       "      <th>2</th>\n",
       "      <td>2</td>\n",
       "      <td>ILOZ Luxury New Elegance Rose Gold white Wome...</td>\n",
       "      <td>₹299.00</td>\n",
       "      <td>62</td>\n",
       "    </tr>\n",
       "    <tr>\n",
       "      <th>3</th>\n",
       "      <td>3</td>\n",
       "      <td>Acnos Digital Pink Vintage Square Dial Unisex...</td>\n",
       "      <td>₹229.00</td>\n",
       "      <td>84</td>\n",
       "    </tr>\n",
       "    <tr>\n",
       "      <th>4</th>\n",
       "      <td>4</td>\n",
       "      <td>Acnos Analog White Dial Rose Gold Strap Watch...</td>\n",
       "      <td>₹209.00</td>\n",
       "      <td>89</td>\n",
       "    </tr>\n",
       "    <tr>\n",
       "      <th>5</th>\n",
       "      <td>5</td>\n",
       "      <td>LOUIS DEVIN Analog Rose Gold Dial Gold Plated...</td>\n",
       "      <td>₹349.00</td>\n",
       "      <td>86</td>\n",
       "    </tr>\n",
       "    <tr>\n",
       "      <th>6</th>\n",
       "      <td>6</td>\n",
       "      <td>FOGG 4075-SL Elegant Design Analog Watch - Fo...</td>\n",
       "      <td>₹259.00</td>\n",
       "      <td>85</td>\n",
       "    </tr>\n",
       "    <tr>\n",
       "      <th>7</th>\n",
       "      <td>7</td>\n",
       "      <td>Lorenz Slim Case Analog Watch with Black Magn...</td>\n",
       "      <td>₹380.00</td>\n",
       "      <td>84</td>\n",
       "    </tr>\n",
       "    <tr>\n",
       "      <th>8</th>\n",
       "      <td>8</td>\n",
       "      <td>Acnos Brand Exclusive Choice Blue Diamond Stu...</td>\n",
       "      <td>₹199.00</td>\n",
       "      <td>80</td>\n",
       "    </tr>\n",
       "    <tr>\n",
       "      <th>9</th>\n",
       "      <td>9</td>\n",
       "      <td>LIMESTONE Analog Brown, Silver Dial Brown Str...</td>\n",
       "      <td>₹279.00</td>\n",
       "      <td>90</td>\n",
       "    </tr>\n",
       "    <tr>\n",
       "      <th>10</th>\n",
       "      <td>10</td>\n",
       "      <td>Missfox diamond Analog Watch - For Girls Fanc...</td>\n",
       "      <td>₹299.00</td>\n",
       "      <td>80</td>\n",
       "    </tr>\n",
       "    <tr>\n",
       "      <th>11</th>\n",
       "      <td>11</td>\n",
       "      <td>SWADESI STUFF Analogue White Dail Watch For W...</td>\n",
       "      <td>₹129.00</td>\n",
       "      <td>90</td>\n",
       "    </tr>\n",
       "  </tbody>\n",
       "</table>\n",
       "</div>"
      ],
      "text/plain": [
       "    Unnamed: 0                                               Name    price  \\\n",
       "0            0   WATCHVERSE Beautiful Dail Analog chain Watche...  ₹209.00   \n",
       "1            1   Acnos Brand Digital Silver Vintage Square Dia...  ₹229.00   \n",
       "2            2   ILOZ Luxury New Elegance Rose Gold white Wome...  ₹299.00   \n",
       "3            3   Acnos Digital Pink Vintage Square Dial Unisex...  ₹229.00   \n",
       "4            4   Acnos Analog White Dial Rose Gold Strap Watch...  ₹209.00   \n",
       "5            5   LOUIS DEVIN Analog Rose Gold Dial Gold Plated...  ₹349.00   \n",
       "6            6   FOGG 4075-SL Elegant Design Analog Watch - Fo...  ₹259.00   \n",
       "7            7   Lorenz Slim Case Analog Watch with Black Magn...  ₹380.00   \n",
       "8            8   Acnos Brand Exclusive Choice Blue Diamond Stu...  ₹199.00   \n",
       "9            9   LIMESTONE Analog Brown, Silver Dial Brown Str...  ₹279.00   \n",
       "10          10   Missfox diamond Analog Watch - For Girls Fanc...  ₹299.00   \n",
       "11          11   SWADESI STUFF Analogue White Dail Watch For W...  ₹129.00   \n",
       "\n",
       "   offer  \n",
       "0     79  \n",
       "1     84  \n",
       "2     62  \n",
       "3     84  \n",
       "4     89  \n",
       "5     86  \n",
       "6     85  \n",
       "7     84  \n",
       "8     80  \n",
       "9     90  \n",
       "10    80  \n",
       "11    90  "
      ]
     },
     "execution_count": 9,
     "metadata": {},
     "output_type": "execute_result"
    }
   ],
   "source": [
    "File"
   ]
  },
  {
   "cell_type": "markdown",
   "id": "8fa0ea1b",
   "metadata": {},
   "source": [
    "# CATAGORICAL DATA"
   ]
  },
  {
   "cell_type": "code",
   "execution_count": 10,
   "id": "81323eed",
   "metadata": {},
   "outputs": [],
   "source": [
    "salary_data=pd.DataFrame({\"Salary\":[10000,20000,25000,30000,45000,50000],\"Range\":['LOW','LOW','MID','MID','HIG','HIG']})"
   ]
  },
  {
   "cell_type": "code",
   "execution_count": 11,
   "id": "2b0d05d6",
   "metadata": {},
   "outputs": [
    {
     "data": {
      "text/html": [
       "<div>\n",
       "<style scoped>\n",
       "    .dataframe tbody tr th:only-of-type {\n",
       "        vertical-align: middle;\n",
       "    }\n",
       "\n",
       "    .dataframe tbody tr th {\n",
       "        vertical-align: top;\n",
       "    }\n",
       "\n",
       "    .dataframe thead th {\n",
       "        text-align: right;\n",
       "    }\n",
       "</style>\n",
       "<table border=\"1\" class=\"dataframe\">\n",
       "  <thead>\n",
       "    <tr style=\"text-align: right;\">\n",
       "      <th></th>\n",
       "      <th>Salary</th>\n",
       "      <th>Range</th>\n",
       "    </tr>\n",
       "  </thead>\n",
       "  <tbody>\n",
       "    <tr>\n",
       "      <th>0</th>\n",
       "      <td>10000</td>\n",
       "      <td>LOW</td>\n",
       "    </tr>\n",
       "    <tr>\n",
       "      <th>1</th>\n",
       "      <td>20000</td>\n",
       "      <td>LOW</td>\n",
       "    </tr>\n",
       "    <tr>\n",
       "      <th>2</th>\n",
       "      <td>25000</td>\n",
       "      <td>MID</td>\n",
       "    </tr>\n",
       "    <tr>\n",
       "      <th>3</th>\n",
       "      <td>30000</td>\n",
       "      <td>MID</td>\n",
       "    </tr>\n",
       "    <tr>\n",
       "      <th>4</th>\n",
       "      <td>45000</td>\n",
       "      <td>HIG</td>\n",
       "    </tr>\n",
       "    <tr>\n",
       "      <th>5</th>\n",
       "      <td>50000</td>\n",
       "      <td>HIG</td>\n",
       "    </tr>\n",
       "  </tbody>\n",
       "</table>\n",
       "</div>"
      ],
      "text/plain": [
       "   Salary Range\n",
       "0   10000   LOW\n",
       "1   20000   LOW\n",
       "2   25000   MID\n",
       "3   30000   MID\n",
       "4   45000   HIG\n",
       "5   50000   HIG"
      ]
     },
     "execution_count": 11,
     "metadata": {},
     "output_type": "execute_result"
    }
   ],
   "source": [
    "salary_data"
   ]
  },
  {
   "cell_type": "code",
   "execution_count": 12,
   "id": "f6db1df6",
   "metadata": {},
   "outputs": [],
   "source": [
    "code=salary_data.Range.map({'LOW':3,'HIG':1,'MID':2})"
   ]
  },
  {
   "cell_type": "code",
   "execution_count": 13,
   "id": "3bf766b2",
   "metadata": {},
   "outputs": [
    {
     "data": {
      "text/plain": [
       "0    3\n",
       "1    3\n",
       "2    2\n",
       "3    2\n",
       "4    1\n",
       "5    1\n",
       "Name: Range, dtype: int64"
      ]
     },
     "execution_count": 13,
     "metadata": {},
     "output_type": "execute_result"
    }
   ],
   "source": [
    "code"
   ]
  },
  {
   "cell_type": "code",
   "execution_count": 14,
   "id": "0a9e8a44",
   "metadata": {},
   "outputs": [],
   "source": [
    "publish=pd.DataFrame(salary_data['Salary'],columns=['Salary'])"
   ]
  },
  {
   "cell_type": "code",
   "execution_count": 15,
   "id": "cadc7853",
   "metadata": {},
   "outputs": [],
   "source": [
    "publish[\"code\"]=code"
   ]
  },
  {
   "cell_type": "code",
   "execution_count": 16,
   "id": "614047da",
   "metadata": {},
   "outputs": [
    {
     "data": {
      "text/html": [
       "<div>\n",
       "<style scoped>\n",
       "    .dataframe tbody tr th:only-of-type {\n",
       "        vertical-align: middle;\n",
       "    }\n",
       "\n",
       "    .dataframe tbody tr th {\n",
       "        vertical-align: top;\n",
       "    }\n",
       "\n",
       "    .dataframe thead th {\n",
       "        text-align: right;\n",
       "    }\n",
       "</style>\n",
       "<table border=\"1\" class=\"dataframe\">\n",
       "  <thead>\n",
       "    <tr style=\"text-align: right;\">\n",
       "      <th></th>\n",
       "      <th>Salary</th>\n",
       "      <th>code</th>\n",
       "    </tr>\n",
       "  </thead>\n",
       "  <tbody>\n",
       "    <tr>\n",
       "      <th>0</th>\n",
       "      <td>10000</td>\n",
       "      <td>3</td>\n",
       "    </tr>\n",
       "    <tr>\n",
       "      <th>1</th>\n",
       "      <td>20000</td>\n",
       "      <td>3</td>\n",
       "    </tr>\n",
       "    <tr>\n",
       "      <th>2</th>\n",
       "      <td>25000</td>\n",
       "      <td>2</td>\n",
       "    </tr>\n",
       "    <tr>\n",
       "      <th>3</th>\n",
       "      <td>30000</td>\n",
       "      <td>2</td>\n",
       "    </tr>\n",
       "    <tr>\n",
       "      <th>4</th>\n",
       "      <td>45000</td>\n",
       "      <td>1</td>\n",
       "    </tr>\n",
       "    <tr>\n",
       "      <th>5</th>\n",
       "      <td>50000</td>\n",
       "      <td>1</td>\n",
       "    </tr>\n",
       "  </tbody>\n",
       "</table>\n",
       "</div>"
      ],
      "text/plain": [
       "   Salary  code\n",
       "0   10000     3\n",
       "1   20000     3\n",
       "2   25000     2\n",
       "3   30000     2\n",
       "4   45000     1\n",
       "5   50000     1"
      ]
     },
     "execution_count": 16,
     "metadata": {},
     "output_type": "execute_result"
    }
   ],
   "source": [
    "publish"
   ]
  },
  {
   "cell_type": "markdown",
   "id": "d5ec286b",
   "metadata": {},
   "source": [
    "# FEATURE SCALING     "
   ]
  },
  {
   "cell_type": "code",
   "execution_count": 17,
   "id": "f42d5700",
   "metadata": {},
   "outputs": [],
   "source": [
    "import numpy  as np"
   ]
  },
  {
   "cell_type": "code",
   "execution_count": 19,
   "id": "80260113",
   "metadata": {},
   "outputs": [],
   "source": [
    "Test_Data=pd.DataFrame({'x':np.random.randint(-1,100,1000),'y':np.random.randint(-50,50,1000),'z':np.random.randint(-200,200,1000)})"
   ]
  },
  {
   "cell_type": "code",
   "execution_count": 20,
   "id": "a329dd9f",
   "metadata": {},
   "outputs": [
    {
     "data": {
      "text/html": [
       "<div>\n",
       "<style scoped>\n",
       "    .dataframe tbody tr th:only-of-type {\n",
       "        vertical-align: middle;\n",
       "    }\n",
       "\n",
       "    .dataframe tbody tr th {\n",
       "        vertical-align: top;\n",
       "    }\n",
       "\n",
       "    .dataframe thead th {\n",
       "        text-align: right;\n",
       "    }\n",
       "</style>\n",
       "<table border=\"1\" class=\"dataframe\">\n",
       "  <thead>\n",
       "    <tr style=\"text-align: right;\">\n",
       "      <th></th>\n",
       "      <th>x</th>\n",
       "      <th>y</th>\n",
       "      <th>z</th>\n",
       "    </tr>\n",
       "  </thead>\n",
       "  <tbody>\n",
       "    <tr>\n",
       "      <th>0</th>\n",
       "      <td>23</td>\n",
       "      <td>-7</td>\n",
       "      <td>68</td>\n",
       "    </tr>\n",
       "    <tr>\n",
       "      <th>1</th>\n",
       "      <td>37</td>\n",
       "      <td>4</td>\n",
       "      <td>25</td>\n",
       "    </tr>\n",
       "    <tr>\n",
       "      <th>2</th>\n",
       "      <td>40</td>\n",
       "      <td>4</td>\n",
       "      <td>112</td>\n",
       "    </tr>\n",
       "    <tr>\n",
       "      <th>3</th>\n",
       "      <td>48</td>\n",
       "      <td>-49</td>\n",
       "      <td>-182</td>\n",
       "    </tr>\n",
       "    <tr>\n",
       "      <th>4</th>\n",
       "      <td>33</td>\n",
       "      <td>33</td>\n",
       "      <td>137</td>\n",
       "    </tr>\n",
       "    <tr>\n",
       "      <th>...</th>\n",
       "      <td>...</td>\n",
       "      <td>...</td>\n",
       "      <td>...</td>\n",
       "    </tr>\n",
       "    <tr>\n",
       "      <th>995</th>\n",
       "      <td>16</td>\n",
       "      <td>-42</td>\n",
       "      <td>-149</td>\n",
       "    </tr>\n",
       "    <tr>\n",
       "      <th>996</th>\n",
       "      <td>4</td>\n",
       "      <td>42</td>\n",
       "      <td>-196</td>\n",
       "    </tr>\n",
       "    <tr>\n",
       "      <th>997</th>\n",
       "      <td>57</td>\n",
       "      <td>-41</td>\n",
       "      <td>-197</td>\n",
       "    </tr>\n",
       "    <tr>\n",
       "      <th>998</th>\n",
       "      <td>92</td>\n",
       "      <td>-36</td>\n",
       "      <td>92</td>\n",
       "    </tr>\n",
       "    <tr>\n",
       "      <th>999</th>\n",
       "      <td>49</td>\n",
       "      <td>36</td>\n",
       "      <td>-79</td>\n",
       "    </tr>\n",
       "  </tbody>\n",
       "</table>\n",
       "<p>1000 rows × 3 columns</p>\n",
       "</div>"
      ],
      "text/plain": [
       "      x   y    z\n",
       "0    23  -7   68\n",
       "1    37   4   25\n",
       "2    40   4  112\n",
       "3    48 -49 -182\n",
       "4    33  33  137\n",
       "..   ..  ..  ...\n",
       "995  16 -42 -149\n",
       "996   4  42 -196\n",
       "997  57 -41 -197\n",
       "998  92 -36   92\n",
       "999  49  36  -79\n",
       "\n",
       "[1000 rows x 3 columns]"
      ]
     },
     "execution_count": 20,
     "metadata": {},
     "output_type": "execute_result"
    }
   ],
   "source": [
    "Test_Data"
   ]
  },
  {
   "cell_type": "code",
   "execution_count": 23,
   "id": "c4f941f1",
   "metadata": {},
   "outputs": [],
   "source": [
    "import matplotlib.pyplot as plt\n",
    "\n",
    "from mpl_toolkits.mplot3d import Axes3D\n",
    "\n",
    "%matplotlib inline\n"
   ]
  },
  {
   "cell_type": "code",
   "execution_count": 28,
   "id": "258efbd3",
   "metadata": {},
   "outputs": [
    {
     "data": {
      "text/plain": [
       "<Figure size 640x480 with 0 Axes>"
      ]
     },
     "execution_count": 28,
     "metadata": {},
     "output_type": "execute_result"
    },
    {
     "data": {
      "image/png": "[encoded data removed]",
      "text/plain": [
       "<Figure size 640x480 with 1 Axes>"
      ]
     },
     "metadata": {},
     "output_type": "display_data"
    },
    {
     "data": {
      "text/plain": [
       "<Figure size 640x480 with 0 Axes>"
      ]
     },
     "metadata": {},
     "output_type": "display_data"
    }
   ],
   "source": [
    "pl=plt.axes(projection='3d')\n",
    "pl.scatter3D(Test_Data.x,Test_Data.y,Test_Data.z)\n",
    "plt.figure()"
   ]
  },
  {
   "cell_type": "code",
   "execution_count": 27,
   "id": "ddbdb021",
   "metadata": {},
   "outputs": [
    {
     "data": {
      "text/plain": [
       "<mpl_toolkits.mplot3d.art3d.Path3DCollection at 0x21298286f10>"
      ]
     },
     "execution_count": 27,
     "metadata": {},
     "output_type": "execute_result"
    }
   ],
   "source": [
    "pl=\n",
    "pl.scatter3D(Test_Data.x,Test_Data.y,Test_Data.z)"
   ]
  },
  {
   "cell_type": "code",
   "execution_count": 29,
   "id": "519349dc",
   "metadata": {},
   "outputs": [
    {
     "name": "stdout",
     "output_type": "stream",
     "text": [
      "Requirement already satisfied: scikit-learn in c:\\users\\divya\\anaconda3\\lib\\site-packages (1.3.0)Note: you may need to restart the kernel to use updated packages.\n",
      "\n",
      "Requirement already satisfied: numpy>=1.17.3 in c:\\users\\divya\\anaconda3\\lib\\site-packages (from scikit-learn) (1.24.3)\n",
      "Requirement already satisfied: scipy>=1.5.0 in c:\\users\\divya\\anaconda3\\lib\\site-packages (from scikit-learn) (1.14.1)\n",
      "Requirement already satisfied: joblib>=1.1.1 in c:\\users\\divya\\anaconda3\\lib\\site-packages (from scikit-learn) (1.2.0)\n",
      "Requirement already satisfied: threadpoolctl>=2.0.0 in c:\\users\\divya\\anaconda3\\lib\\site-packages (from scikit-learn) (2.2.0)\n"
     ]
    }
   ],
   "source": [
    "pip install scikit-learn"
   ]
  },
  {
   "cell_type": "code",
   "execution_count": 31,
   "id": "e8d062bc",
   "metadata": {},
   "outputs": [],
   "source": [
    "from sklearn.preprocessing import Normalizer"
   ]
  },
  {
   "cell_type": "code",
   "execution_count": 32,
   "id": "83ef7c58",
   "metadata": {},
   "outputs": [],
   "source": [
    "nm=Normalizer()"
   ]
  },
  {
   "cell_type": "code",
   "execution_count": 33,
   "id": "4b47ef60",
   "metadata": {},
   "outputs": [],
   "source": [
    "Normal_Data=nm.fit_transform(Test_Data)"
   ]
  },
  {
   "cell_type": "code",
   "execution_count": 34,
   "id": "0c900bac",
   "metadata": {},
   "outputs": [
    {
     "data": {
      "text/plain": [
       "array([[ 0.31889129, -0.09705387,  0.94280904],\n",
       "       [ 0.82528451,  0.08921995,  0.55762467],\n",
       "       [ 0.33614632,  0.03361463,  0.9412097 ],\n",
       "       ...,\n",
       "       [ 0.27254639, -0.19604214, -0.94195857],\n",
       "       [ 0.68150018, -0.26667398,  0.68150018],\n",
       "       [ 0.4915261 ,  0.36112122, -0.79246045]])"
      ]
     },
     "execution_count": 34,
     "metadata": {},
     "output_type": "execute_result"
    }
   ],
   "source": [
    "Normal_Data"
   ]
  },
  {
   "cell_type": "code",
   "execution_count": 39,
   "id": "abd7f632",
   "metadata": {},
   "outputs": [],
   "source": [
    "Normal_df=pd.DataFrame(Normal_Data,columns=['A','B','C'])"
   ]
  },
  {
   "cell_type": "code",
   "execution_count": 40,
   "id": "73399f72",
   "metadata": {},
   "outputs": [
    {
     "data": {
      "text/html": [
       "<div>\n",
       "<style scoped>\n",
       "    .dataframe tbody tr th:only-of-type {\n",
       "        vertical-align: middle;\n",
       "    }\n",
       "\n",
       "    .dataframe tbody tr th {\n",
       "        vertical-align: top;\n",
       "    }\n",
       "\n",
       "    .dataframe thead th {\n",
       "        text-align: right;\n",
       "    }\n",
       "</style>\n",
       "<table border=\"1\" class=\"dataframe\">\n",
       "  <thead>\n",
       "    <tr style=\"text-align: right;\">\n",
       "      <th></th>\n",
       "      <th>A</th>\n",
       "      <th>B</th>\n",
       "      <th>C</th>\n",
       "    </tr>\n",
       "  </thead>\n",
       "  <tbody>\n",
       "    <tr>\n",
       "      <th>0</th>\n",
       "      <td>0.318891</td>\n",
       "      <td>-0.097054</td>\n",
       "      <td>0.942809</td>\n",
       "    </tr>\n",
       "    <tr>\n",
       "      <th>1</th>\n",
       "      <td>0.825285</td>\n",
       "      <td>0.089220</td>\n",
       "      <td>0.557625</td>\n",
       "    </tr>\n",
       "    <tr>\n",
       "      <th>2</th>\n",
       "      <td>0.336146</td>\n",
       "      <td>0.033615</td>\n",
       "      <td>0.941210</td>\n",
       "    </tr>\n",
       "    <tr>\n",
       "      <th>3</th>\n",
       "      <td>0.246791</td>\n",
       "      <td>-0.251932</td>\n",
       "      <td>-0.935748</td>\n",
       "    </tr>\n",
       "    <tr>\n",
       "      <th>4</th>\n",
       "      <td>0.228010</td>\n",
       "      <td>0.228010</td>\n",
       "      <td>0.946585</td>\n",
       "    </tr>\n",
       "    <tr>\n",
       "      <th>...</th>\n",
       "      <td>...</td>\n",
       "      <td>...</td>\n",
       "      <td>...</td>\n",
       "    </tr>\n",
       "    <tr>\n",
       "      <th>995</th>\n",
       "      <td>0.102807</td>\n",
       "      <td>-0.269869</td>\n",
       "      <td>-0.957393</td>\n",
       "    </tr>\n",
       "    <tr>\n",
       "      <th>996</th>\n",
       "      <td>0.019951</td>\n",
       "      <td>0.209487</td>\n",
       "      <td>-0.977608</td>\n",
       "    </tr>\n",
       "    <tr>\n",
       "      <th>997</th>\n",
       "      <td>0.272546</td>\n",
       "      <td>-0.196042</td>\n",
       "      <td>-0.941959</td>\n",
       "    </tr>\n",
       "    <tr>\n",
       "      <th>998</th>\n",
       "      <td>0.681500</td>\n",
       "      <td>-0.266674</td>\n",
       "      <td>0.681500</td>\n",
       "    </tr>\n",
       "    <tr>\n",
       "      <th>999</th>\n",
       "      <td>0.491526</td>\n",
       "      <td>0.361121</td>\n",
       "      <td>-0.792460</td>\n",
       "    </tr>\n",
       "  </tbody>\n",
       "</table>\n",
       "<p>1000 rows × 3 columns</p>\n",
       "</div>"
      ],
      "text/plain": [
       "            A         B         C\n",
       "0    0.318891 -0.097054  0.942809\n",
       "1    0.825285  0.089220  0.557625\n",
       "2    0.336146  0.033615  0.941210\n",
       "3    0.246791 -0.251932 -0.935748\n",
       "4    0.228010  0.228010  0.946585\n",
       "..        ...       ...       ...\n",
       "995  0.102807 -0.269869 -0.957393\n",
       "996  0.019951  0.209487 -0.977608\n",
       "997  0.272546 -0.196042 -0.941959\n",
       "998  0.681500 -0.266674  0.681500\n",
       "999  0.491526  0.361121 -0.792460\n",
       "\n",
       "[1000 rows x 3 columns]"
      ]
     },
     "execution_count": 40,
     "metadata": {},
     "output_type": "execute_result"
    }
   ],
   "source": [
    "Normal_df"
   ]
  },
  {
   "cell_type": "code",
   "execution_count": 41,
   "id": "456ed166",
   "metadata": {},
   "outputs": [
    {
     "data": {
      "text/plain": [
       "<Figure size 640x480 with 0 Axes>"
      ]
     },
     "execution_count": 41,
     "metadata": {},
     "output_type": "execute_result"
    },
    {
     "data": {
      "image/png": "[encoded data removed]",
      "text/plain": [
       "<Figure size 640x480 with 1 Axes>"
      ]
     },
     "metadata": {},
     "output_type": "display_data"
    },
    {
     "data": {
      "text/plain": [
       "<Figure size 640x480 with 0 Axes>"
      ]
     },
     "metadata": {},
     "output_type": "display_data"
    }
   ],
   "source": [
    "pl=plt.axes(projection='3d')\n",
    "pl.scatter3D(Normal_df.A,Normal_df.B,Normal_df.C)\n",
    "plt.figure()"
   ]
  },
  {
   "cell_type": "code",
   "execution_count": null,
   "id": "083c1ec4",
   "metadata": {},
   "outputs": [],
   "source": [
    "Normal_df=pd.DataFrame(Normal_Data,column=['A','B',''])"
   ]
  },
  {
   "cell_type": "markdown",
   "id": "2f6474c9",
   "metadata": {},
   "source": [
    "# MISSION VALUES"
   ]
  },
  {
   "cell_type": "code",
   "execution_count": 3,
   "id": "9142ec08",
   "metadata": {},
   "outputs": [],
   "source": [
    "data={\"A\":[1,2,4,5,6],\"B\":[10,40,np.nan,80,60],\"C\":[np.nan,np.nan,100,50,40]}"
   ]
  },
  {
   "cell_type": "code",
   "execution_count": 4,
   "id": "ff9ac1de",
   "metadata": {},
   "outputs": [],
   "source": [
    "DF=pd.DataFrame(data)"
   ]
  },
  {
   "cell_type": "code",
   "execution_count": 5,
   "id": "366316ed",
   "metadata": {},
   "outputs": [
    {
     "data": {
      "text/html": [
       "<div>\n",
       "<style scoped>\n",
       "    .dataframe tbody tr th:only-of-type {\n",
       "        vertical-align: middle;\n",
       "    }\n",
       "\n",
       "    .dataframe tbody tr th {\n",
       "        vertical-align: top;\n",
       "    }\n",
       "\n",
       "    .dataframe thead th {\n",
       "        text-align: right;\n",
       "    }\n",
       "</style>\n",
       "<table border=\"1\" class=\"dataframe\">\n",
       "  <thead>\n",
       "    <tr style=\"text-align: right;\">\n",
       "      <th></th>\n",
       "      <th>A</th>\n",
       "      <th>B</th>\n",
       "      <th>C</th>\n",
       "    </tr>\n",
       "  </thead>\n",
       "  <tbody>\n",
       "    <tr>\n",
       "      <th>0</th>\n",
       "      <td>1</td>\n",
       "      <td>10.0</td>\n",
       "      <td>NaN</td>\n",
       "    </tr>\n",
       "    <tr>\n",
       "      <th>1</th>\n",
       "      <td>2</td>\n",
       "      <td>40.0</td>\n",
       "      <td>NaN</td>\n",
       "    </tr>\n",
       "    <tr>\n",
       "      <th>2</th>\n",
       "      <td>4</td>\n",
       "      <td>NaN</td>\n",
       "      <td>100.0</td>\n",
       "    </tr>\n",
       "    <tr>\n",
       "      <th>3</th>\n",
       "      <td>5</td>\n",
       "      <td>80.0</td>\n",
       "      <td>50.0</td>\n",
       "    </tr>\n",
       "    <tr>\n",
       "      <th>4</th>\n",
       "      <td>6</td>\n",
       "      <td>60.0</td>\n",
       "      <td>40.0</td>\n",
       "    </tr>\n",
       "  </tbody>\n",
       "</table>\n",
       "</div>"
      ],
      "text/plain": [
       "   A     B      C\n",
       "0  1  10.0    NaN\n",
       "1  2  40.0    NaN\n",
       "2  4   NaN  100.0\n",
       "3  5  80.0   50.0\n",
       "4  6  60.0   40.0"
      ]
     },
     "execution_count": 5,
     "metadata": {},
     "output_type": "execute_result"
    }
   ],
   "source": [
    "DF"
   ]
  },
  {
   "cell_type": "code",
   "execution_count": 6,
   "id": "f61a2362",
   "metadata": {},
   "outputs": [
    {
     "data": {
      "text/html": [
       "<div>\n",
       "<style scoped>\n",
       "    .dataframe tbody tr th:only-of-type {\n",
       "        vertical-align: middle;\n",
       "    }\n",
       "\n",
       "    .dataframe tbody tr th {\n",
       "        vertical-align: top;\n",
       "    }\n",
       "\n",
       "    .dataframe thead th {\n",
       "        text-align: right;\n",
       "    }\n",
       "</style>\n",
       "<table border=\"1\" class=\"dataframe\">\n",
       "  <thead>\n",
       "    <tr style=\"text-align: right;\">\n",
       "      <th></th>\n",
       "      <th>A</th>\n",
       "      <th>B</th>\n",
       "      <th>C</th>\n",
       "    </tr>\n",
       "  </thead>\n",
       "  <tbody>\n",
       "    <tr>\n",
       "      <th>0</th>\n",
       "      <td>False</td>\n",
       "      <td>False</td>\n",
       "      <td>True</td>\n",
       "    </tr>\n",
       "    <tr>\n",
       "      <th>1</th>\n",
       "      <td>False</td>\n",
       "      <td>False</td>\n",
       "      <td>True</td>\n",
       "    </tr>\n",
       "    <tr>\n",
       "      <th>2</th>\n",
       "      <td>False</td>\n",
       "      <td>True</td>\n",
       "      <td>False</td>\n",
       "    </tr>\n",
       "    <tr>\n",
       "      <th>3</th>\n",
       "      <td>False</td>\n",
       "      <td>False</td>\n",
       "      <td>False</td>\n",
       "    </tr>\n",
       "    <tr>\n",
       "      <th>4</th>\n",
       "      <td>False</td>\n",
       "      <td>False</td>\n",
       "      <td>False</td>\n",
       "    </tr>\n",
       "  </tbody>\n",
       "</table>\n",
       "</div>"
      ],
      "text/plain": [
       "       A      B      C\n",
       "0  False  False   True\n",
       "1  False  False   True\n",
       "2  False   True  False\n",
       "3  False  False  False\n",
       "4  False  False  False"
      ]
     },
     "execution_count": 6,
     "metadata": {},
     "output_type": "execute_result"
    }
   ],
   "source": [
    "DF.isnull()"
   ]
  },
  {
   "cell_type": "code",
   "execution_count": 7,
   "id": "f6393528",
   "metadata": {},
   "outputs": [],
   "source": [
    "from sklearn.impute import SimpleImputer"
   ]
  },
  {
   "cell_type": "code",
   "execution_count": 8,
   "id": "7859d656",
   "metadata": {},
   "outputs": [],
   "source": [
    "SM=SimpleImputer(missing_values= np.nan,strategy='mean')"
   ]
  },
  {
   "cell_type": "code",
   "execution_count": 9,
   "id": "1e5fd92f",
   "metadata": {},
   "outputs": [
    {
     "data": {
      "text/html": [
       "<style>#sk-container-id-1 {color: black;}#sk-container-id-1 pre{padding: 0;}#sk-container-id-1 div.sk-toggleable {background-color: white;}#sk-container-id-1 label.sk-toggleable__label {cursor: pointer;display: block;width: 100%;margin-bottom: 0;padding: 0.3em;box-sizing: border-box;text-align: center;}#sk-container-id-1 label.sk-toggleable__label-arrow:before {content: \"▸\";float: left;margin-right: 0.25em;color: #696969;}#sk-container-id-1 label.sk-toggleable__label-arrow:hover:before {color: black;}#sk-container-id-1 div.sk-estimator:hover label.sk-toggleable__label-arrow:before {color: black;}#sk-container-id-1 div.sk-toggleable__content {max-height: 0;max-width: 0;overflow: hidden;text-align: left;background-color: #f0f8ff;}#sk-container-id-1 div.sk-toggleable__content pre {margin: 0.2em;color: black;border-radius: 0.25em;background-color: #f0f8ff;}#sk-container-id-1 input.sk-toggleable__control:checked~div.sk-toggleable__content {max-height: 200px;max-width: 100%;overflow: auto;}#sk-container-id-1 input.sk-toggleable__control:checked~label.sk-toggleable__label-arrow:before {content: \"▾\";}#sk-container-id-1 div.sk-estimator input.sk-toggleable__control:checked~label.sk-toggleable__label {background-color: #d4ebff;}#sk-container-id-1 div.sk-label input.sk-toggleable__control:checked~label.sk-toggleable__label {background-color: #d4ebff;}#sk-container-id-1 input.sk-hidden--visually {border: 0;clip: rect(1px 1px 1px 1px);clip: rect(1px, 1px, 1px, 1px);height: 1px;margin: -1px;overflow: hidden;padding: 0;position: absolute;width: 1px;}#sk-container-id-1 div.sk-estimator {font-family: monospace;background-color: #f0f8ff;border: 1px dotted black;border-radius: 0.25em;box-sizing: border-box;margin-bottom: 0.5em;}#sk-container-id-1 div.sk-estimator:hover {background-color: #d4ebff;}#sk-container-id-1 div.sk-parallel-item::after {content: \"\";width: 100%;border-bottom: 1px solid gray;flex-grow: 1;}#sk-container-id-1 div.sk-label:hover label.sk-toggleable__label {background-color: #d4ebff;}#sk-container-id-1 div.sk-serial::before {content: \"\";position: absolute;border-left: 1px solid gray;box-sizing: border-box;top: 0;bottom: 0;left: 50%;z-index: 0;}#sk-container-id-1 div.sk-serial {display: flex;flex-direction: column;align-items: center;background-color: white;padding-right: 0.2em;padding-left: 0.2em;position: relative;}#sk-container-id-1 div.sk-item {position: relative;z-index: 1;}#sk-container-id-1 div.sk-parallel {display: flex;align-items: stretch;justify-content: center;background-color: white;position: relative;}#sk-container-id-1 div.sk-item::before, #sk-container-id-1 div.sk-parallel-item::before {content: \"\";position: absolute;border-left: 1px solid gray;box-sizing: border-box;top: 0;bottom: 0;left: 50%;z-index: -1;}#sk-container-id-1 div.sk-parallel-item {display: flex;flex-direction: column;z-index: 1;position: relative;background-color: white;}#sk-container-id-1 div.sk-parallel-item:first-child::after {align-self: flex-end;width: 50%;}#sk-container-id-1 div.sk-parallel-item:last-child::after {align-self: flex-start;width: 50%;}#sk-container-id-1 div.sk-parallel-item:only-child::after {width: 0;}#sk-container-id-1 div.sk-dashed-wrapped {border: 1px dashed gray;margin: 0 0.4em 0.5em 0.4em;box-sizing: border-box;padding-bottom: 0.4em;background-color: white;}#sk-container-id-1 div.sk-label label {font-family: monospace;font-weight: bold;display: inline-block;line-height: 1.2em;}#sk-container-id-1 div.sk-label-container {text-align: center;}#sk-container-id-1 div.sk-container {/* jupyter's `normalize.less` sets `[hidden] { display: none; }` but bootstrap.min.css set `[hidden] { display: none !important; }` so we also need the `!important` here to be able to override the default hidden behavior on the sphinx rendered scikit-learn.org. See: https://github.com/scikit-learn/scikit-learn/issues/21755 */display: inline-block !important;position: relative;}#sk-container-id-1 div.sk-text-repr-fallback {display: none;}</style><div id=\"sk-container-id-1\" class=\"sk-top-container\"><div class=\"sk-text-repr-fallback\"><pre>SimpleImputer()</pre><b>In a Jupyter environment, please rerun this cell to show the HTML representation or trust the notebook. <br />On GitHub, the HTML representation is unable to render, please try loading this page with nbviewer.org.</b></div><div class=\"sk-container\" hidden><div class=\"sk-item\"><div class=\"sk-estimator sk-toggleable\"><input class=\"sk-toggleable__control sk-hidden--visually\" id=\"sk-estimator-id-1\" type=\"checkbox\" checked><label for=\"sk-estimator-id-1\" class=\"sk-toggleable__label sk-toggleable__label-arrow\">SimpleImputer</label><div class=\"sk-toggleable__content\"><pre>SimpleImputer()</pre></div></div></div></div></div>"
      ],
      "text/plain": [
       "SimpleImputer()"
      ]
     },
     "execution_count": 9,
     "metadata": {},
     "output_type": "execute_result"
    }
   ],
   "source": [
    "SM.fit(DF)"
   ]
  },
  {
   "cell_type": "code",
   "execution_count": null,
   "id": "a08337ab",
   "metadata": {},
   "outputs": [],
   "source": []
  },
  {
   "cell_type": "code",
   "execution_count": null,
   "id": "88d908b7",
   "metadata": {},
   "outputs": [],
   "source": []
  }
 ],
 "metadata": {
  "kernelspec": {
   "display_name": "Python 3 (ipykernel)",
   "language": "python",
   "name": "python3"
  },
  "language_info": {
   "codemirror_mode": {
    "name": "ipython",
    "version": 3
   },
   "file_extension": ".py",
   "mimetype": "text/x-python",
   "name": "python",
   "nbconvert_exporter": "python",
   "pygments_lexer": "ipython3",
   "version": "3.11.4"
  }
 },
 "nbformat": 4,
 "nbformat_minor": 5
}
