{
 "cells": [
  {
   "cell_type": "code",
   "execution_count": 1,
   "id": "c60ffb56",
   "metadata": {},
   "outputs": [],
   "source": [
    "import numpy as np"
   ]
  },
  {
   "cell_type": "code",
   "execution_count": 2,
   "id": "46ee6eb4",
   "metadata": {},
   "outputs": [],
   "source": [
    "ar1=np.array(3)"
   ]
  },
  {
   "cell_type": "code",
   "execution_count": 3,
   "id": "4b76a4c7",
   "metadata": {},
   "outputs": [
    {
     "data": {
      "text/plain": [
       "array(3)"
      ]
     },
     "execution_count": 3,
     "metadata": {},
     "output_type": "execute_result"
    }
   ],
   "source": [
    "ar1"
   ]
  },
  {
   "cell_type": "code",
   "execution_count": 4,
   "id": "177a371a",
   "metadata": {},
   "outputs": [],
   "source": [
    "ar2=np.array([2,5,8,1])"
   ]
  },
  {
   "cell_type": "code",
   "execution_count": 5,
   "id": "d2eb667f",
   "metadata": {},
   "outputs": [
    {
     "data": {
      "text/plain": [
       "array([2, 5, 8, 1])"
      ]
     },
     "execution_count": 5,
     "metadata": {},
     "output_type": "execute_result"
    }
   ],
   "source": [
    "ar2"
   ]
  },
  {
   "cell_type": "code",
   "execution_count": 6,
   "id": "e8d8611f",
   "metadata": {},
   "outputs": [],
   "source": [
    "ar3=np.array([[1,2,3],[2,3,4]])"
   ]
  },
  {
   "cell_type": "code",
   "execution_count": 7,
   "id": "0c76b9e9",
   "metadata": {},
   "outputs": [
    {
     "data": {
      "text/plain": [
       "array([[1, 2, 3],\n",
       "       [2, 3, 4]])"
      ]
     },
     "execution_count": 7,
     "metadata": {},
     "output_type": "execute_result"
    }
   ],
   "source": [
    "ar3"
   ]
  },
  {
   "cell_type": "code",
   "execution_count": 8,
   "id": "39100bd0",
   "metadata": {},
   "outputs": [],
   "source": [
    "#sample programs"
   ]
  },
  {
   "cell_type": "markdown",
   "id": "aeb5a6f2",
   "metadata": {},
   "source": [
    "# array types \n",
    "\n",
    "1.zero array \n",
    "2.once array\n",
    "3.empty array\n",
    "4.array for range"
   ]
  },
  {
   "cell_type": "code",
   "execution_count": 9,
   "id": "cf4c3e31",
   "metadata": {},
   "outputs": [],
   "source": [
    "zero_array=np.zeros(2)"
   ]
  },
  {
   "cell_type": "code",
   "execution_count": 10,
   "id": "4b7df93f",
   "metadata": {},
   "outputs": [
    {
     "data": {
      "text/plain": [
       "array([0., 0.])"
      ]
     },
     "execution_count": 10,
     "metadata": {},
     "output_type": "execute_result"
    }
   ],
   "source": [
    "zero_array"
   ]
  },
  {
   "cell_type": "code",
   "execution_count": 11,
   "id": "82b3671d",
   "metadata": {},
   "outputs": [],
   "source": [
    "ones_array=np.ones((4,2))"
   ]
  },
  {
   "cell_type": "code",
   "execution_count": 12,
   "id": "e8155e64",
   "metadata": {},
   "outputs": [
    {
     "data": {
      "text/plain": [
       "array([[1., 1.],\n",
       "       [1., 1.],\n",
       "       [1., 1.],\n",
       "       [1., 1.]])"
      ]
     },
     "execution_count": 12,
     "metadata": {},
     "output_type": "execute_result"
    }
   ],
   "source": [
    "ones_array"
   ]
  },
  {
   "cell_type": "code",
   "execution_count": 13,
   "id": "5c14bfca",
   "metadata": {},
   "outputs": [],
   "source": [
    "ar4=np.arange(2,15,2)"
   ]
  },
  {
   "cell_type": "code",
   "execution_count": 14,
   "id": "cc98c95d",
   "metadata": {},
   "outputs": [
    {
     "data": {
      "text/plain": [
       "array([ 2,  4,  6,  8, 10, 12, 14])"
      ]
     },
     "execution_count": 14,
     "metadata": {},
     "output_type": "execute_result"
    }
   ],
   "source": [
    "ar4"
   ]
  },
  {
   "cell_type": "markdown",
   "id": "ba545fa4",
   "metadata": {},
   "source": [
    "# transpose"
   ]
  },
  {
   "cell_type": "code",
   "execution_count": 15,
   "id": "a3913698",
   "metadata": {},
   "outputs": [],
   "source": [
    "ar5=np.transpose(ar3)"
   ]
  },
  {
   "cell_type": "code",
   "execution_count": 16,
   "id": "6075d7dd",
   "metadata": {},
   "outputs": [
    {
     "data": {
      "text/plain": [
       "array([[1, 2],\n",
       "       [2, 3],\n",
       "       [3, 4]])"
      ]
     },
     "execution_count": 16,
     "metadata": {},
     "output_type": "execute_result"
    }
   ],
   "source": [
    "ar5"
   ]
  },
  {
   "cell_type": "code",
   "execution_count": 17,
   "id": "e23f12d6",
   "metadata": {},
   "outputs": [],
   "source": [
    "ar6=np.ravel(ar5)"
   ]
  },
  {
   "cell_type": "code",
   "execution_count": 18,
   "id": "a683b0e7",
   "metadata": {},
   "outputs": [
    {
     "data": {
      "text/plain": [
       "array([1, 2, 2, 3, 3, 4])"
      ]
     },
     "execution_count": 18,
     "metadata": {},
     "output_type": "execute_result"
    }
   ],
   "source": [
    "ar6"
   ]
  },
  {
   "cell_type": "markdown",
   "id": "bc56e583",
   "metadata": {},
   "source": [
    "# Concatinate"
   ]
  },
  {
   "cell_type": "code",
   "execution_count": 19,
   "id": "079e4f81",
   "metadata": {},
   "outputs": [],
   "source": [
    "a1=np.array([2,3])\n",
    "a2=np.array([3,2])"
   ]
  },
  {
   "cell_type": "code",
   "execution_count": 20,
   "id": "146bf2d3",
   "metadata": {},
   "outputs": [
    {
     "data": {
      "text/plain": [
       "array([2, 3])"
      ]
     },
     "execution_count": 20,
     "metadata": {},
     "output_type": "execute_result"
    }
   ],
   "source": [
    "a1"
   ]
  },
  {
   "cell_type": "code",
   "execution_count": 21,
   "id": "54f6b27c",
   "metadata": {},
   "outputs": [
    {
     "data": {
      "text/plain": [
       "array([3, 2])"
      ]
     },
     "execution_count": 21,
     "metadata": {},
     "output_type": "execute_result"
    }
   ],
   "source": [
    "a2"
   ]
  },
  {
   "cell_type": "code",
   "execution_count": 22,
   "id": "45dc9852",
   "metadata": {},
   "outputs": [],
   "source": [
    "concate=np.concatenate([a1,a2])"
   ]
  },
  {
   "cell_type": "code",
   "execution_count": 23,
   "id": "8ff43bd2",
   "metadata": {},
   "outputs": [
    {
     "data": {
      "text/plain": [
       "array([2, 3, 3, 2])"
      ]
     },
     "execution_count": 23,
     "metadata": {},
     "output_type": "execute_result"
    }
   ],
   "source": [
    "concate"
   ]
  },
  {
   "cell_type": "code",
   "execution_count": 24,
   "id": "a19f63b6",
   "metadata": {},
   "outputs": [],
   "source": [
    "hori=np.vstack((a1,a2))"
   ]
  },
  {
   "cell_type": "code",
   "execution_count": 25,
   "id": "f0e1b08a",
   "metadata": {},
   "outputs": [
    {
     "data": {
      "text/plain": [
       "array([[2, 3],\n",
       "       [3, 2]])"
      ]
     },
     "execution_count": 25,
     "metadata": {},
     "output_type": "execute_result"
    }
   ],
   "source": [
    "hori"
   ]
  },
  {
   "cell_type": "markdown",
   "id": "4570ef04",
   "metadata": {},
   "source": [
    "# Determinant"
   ]
  },
  {
   "cell_type": "code",
   "execution_count": 27,
   "id": "cc488ef9",
   "metadata": {},
   "outputs": [],
   "source": [
    "mat1=np.array([[1,2,3],[4,5,6],[7,8,9]])"
   ]
  },
  {
   "cell_type": "code",
   "execution_count": 28,
   "id": "4be8bbca",
   "metadata": {},
   "outputs": [
    {
     "data": {
      "text/plain": [
       "array([[1, 2, 3],\n",
       "       [4, 5, 6],\n",
       "       [7, 8, 9]])"
      ]
     },
     "execution_count": 28,
     "metadata": {},
     "output_type": "execute_result"
    }
   ],
   "source": [
    "mat1"
   ]
  },
  {
   "cell_type": "code",
   "execution_count": 30,
   "id": "152d0925",
   "metadata": {},
   "outputs": [],
   "source": [
    "det_of_mat1=np.linalg.det(mat1)"
   ]
  },
  {
   "cell_type": "code",
   "execution_count": 31,
   "id": "e962f8ac",
   "metadata": {},
   "outputs": [
    {
     "data": {
      "text/plain": [
       "-9.51619735392994e-16"
      ]
     },
     "execution_count": 31,
     "metadata": {},
     "output_type": "execute_result"
    }
   ],
   "source": [
    "det_of_mat1"
   ]
  },
  {
   "cell_type": "markdown",
   "id": "67265d5a",
   "metadata": {},
   "source": [
    "# Inverse"
   ]
  },
  {
   "cell_type": "code",
   "execution_count": 32,
   "id": "e49daa66",
   "metadata": {},
   "outputs": [],
   "source": [
    "inverse=np.linalg.inv(mat1)"
   ]
  },
  {
   "cell_type": "code",
   "execution_count": 33,
   "id": "7bce7b68",
   "metadata": {},
   "outputs": [
    {
     "data": {
      "text/plain": [
       "array([[ 3.15251974e+15, -6.30503948e+15,  3.15251974e+15],\n",
       "       [-6.30503948e+15,  1.26100790e+16, -6.30503948e+15],\n",
       "       [ 3.15251974e+15, -6.30503948e+15,  3.15251974e+15]])"
      ]
     },
     "execution_count": 33,
     "metadata": {},
     "output_type": "execute_result"
    }
   ],
   "source": [
    "inverse"
   ]
  },
  {
   "cell_type": "code",
   "execution_count": 34,
   "id": "fe53d8b7",
   "metadata": {},
   "outputs": [],
   "source": [
    "Dense=np.array([[1,0,3,0],[0,0,0,6],[0,5,6,7],[0,0,1,1]])"
   ]
  },
  {
   "cell_type": "code",
   "execution_count": 35,
   "id": "6208eebb",
   "metadata": {},
   "outputs": [
    {
     "data": {
      "text/plain": [
       "array([[1, 0, 3, 0],\n",
       "       [0, 0, 0, 6],\n",
       "       [0, 5, 6, 7],\n",
       "       [0, 0, 1, 1]])"
      ]
     },
     "execution_count": 35,
     "metadata": {},
     "output_type": "execute_result"
    }
   ],
   "source": [
    "Dense"
   ]
  },
  {
   "cell_type": "code",
   "execution_count": 36,
   "id": "f62249f3",
   "metadata": {},
   "outputs": [],
   "source": [
    "from scipy.sparse import csr_matrix"
   ]
  },
  {
   "cell_type": "code",
   "execution_count": 39,
   "id": "6248860c",
   "metadata": {},
   "outputs": [],
   "source": [
    "sparse=csr_matrix(Dense)"
   ]
  },
  {
   "cell_type": "code",
   "execution_count": 40,
   "id": "9cb36681",
   "metadata": {},
   "outputs": [
    {
     "data": {
      "text/plain": [
       "<4x4 sparse matrix of type '<class 'numpy.intc'>'\n",
       "\twith 8 stored elements in Compressed Sparse Row format>"
      ]
     },
     "execution_count": 40,
     "metadata": {},
     "output_type": "execute_result"
    }
   ],
   "source": [
    "sparse"
   ]
  },
  {
   "cell_type": "code",
   "execution_count": 41,
   "id": "ffac30a4",
   "metadata": {},
   "outputs": [
    {
     "name": "stdout",
     "output_type": "stream",
     "text": [
      "  (0, 0)\t1\n",
      "  (0, 2)\t3\n",
      "  (1, 3)\t6\n",
      "  (2, 1)\t5\n",
      "  (2, 2)\t6\n",
      "  (2, 3)\t7\n",
      "  (3, 2)\t1\n",
      "  (3, 3)\t1\n"
     ]
    }
   ],
   "source": [
    "print(sparse)"
   ]
  },
  {
   "cell_type": "code",
   "execution_count": null,
   "id": "169c6111",
   "metadata": {},
   "outputs": [],
   "source": []
  }
 ],
 "metadata": {
  "kernelspec": {
   "display_name": "Python 3 (ipykernel)",
   "language": "python",
   "name": "python3"
  },
  "language_info": {
   "codemirror_mode": {
    "name": "ipython",
    "version": 3
   },
   "file_extension": ".py",
   "mimetype": "text/x-python",
   "name": "python",
   "nbconvert_exporter": "python",
   "pygments_lexer": "ipython3",
   "version": "3.11.4"
  }
 },
 "nbformat": 4,
 "nbformat_minor": 5
}
