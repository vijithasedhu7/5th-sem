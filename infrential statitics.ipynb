{
 "cells": [
  {
   "cell_type": "code",
   "execution_count": 1,
   "id": "317ec702",
   "metadata": {},
   "outputs": [],
   "source": [
    "import numpy as np"
   ]
  },
  {
   "cell_type": "markdown",
   "id": "36fe979a",
   "metadata": {},
   "source": [
    "# generate sample data: heights of 30 students (in inches)"
   ]
  },
  {
   "cell_type": "code",
   "execution_count": 2,
   "id": "1bf0c0e0",
   "metadata": {},
   "outputs": [],
   "source": [
    "np.random.seed(40)\n",
    "heights=np.random.normal(loc=65,scale=3,size=30)"
   ]
  },
  {
   "cell_type": "code",
   "execution_count": 3,
   "id": "9ec9e8c9",
   "metadata": {},
   "outputs": [
    {
     "data": {
      "text/plain": [
       "array([63.17735691, 64.62159076, 62.94618092, 67.78614425, 59.4667969 ,\n",
       "       63.59899273, 71.87747103, 66.46643016, 67.13080097, 68.16660333,\n",
       "       65.1622193 , 65.77386025, 66.76484495, 67.65573272, 61.94897893,\n",
       "       64.59892091, 63.6854435 , 66.48033048, 64.40297264, 61.17504918,\n",
       "       65.88048246, 65.32685094, 65.09518036, 68.81791959, 68.2143437 ,\n",
       "       66.24745404, 69.65203769, 64.06586325, 60.86228028, 69.11422636])"
      ]
     },
     "execution_count": 3,
     "metadata": {},
     "output_type": "execute_result"
    }
   ],
   "source": [
    "heights"
   ]
  },
  {
   "cell_type": "markdown",
   "id": "f6a3ad7c",
   "metadata": {},
   "source": [
    "# point estimation :calculate the sample mean"
   ]
  },
  {
   "cell_type": "code",
   "execution_count": 4,
   "id": "48d383e6",
   "metadata": {},
   "outputs": [
    {
     "name": "stdout",
     "output_type": "stream",
     "text": [
      "sample mean (point estimate): 65.53877864874389\n"
     ]
    }
   ],
   "source": [
    "sample_mean=np.mean(heights)\n",
    "print(\"sample mean (point estimate):\",sample_mean)"
   ]
  },
  {
   "cell_type": "code",
   "execution_count": 5,
   "id": "7d402d1e",
   "metadata": {},
   "outputs": [],
   "source": [
    "import numpy as np\n",
    "import scipy.stats as stats"
   ]
  },
  {
   "cell_type": "code",
   "execution_count": 6,
   "id": "9d74ac3d",
   "metadata": {},
   "outputs": [],
   "source": [
    "sample_mean=np.mean(heights)\n",
    "sample_std=np.std(heights,ddof=1)\n"
   ]
  },
  {
   "cell_type": "code",
   "execution_count": 7,
   "id": "fd477dad",
   "metadata": {},
   "outputs": [],
   "source": [
    "confidence_level=0.95"
   ]
  },
  {
   "cell_type": "code",
   "execution_count": 8,
   "id": "0a292c33",
   "metadata": {},
   "outputs": [],
   "source": [
    "margin_of_errors=stats.t.ppf((1+confidence_level)/2,len(heights)-1)*(sample_std/np.sqrt(len(heights)))"
   ]
  },
  {
   "cell_type": "code",
   "execution_count": 9,
   "id": "cf8065f9",
   "metadata": {},
   "outputs": [],
   "source": [
    "lower_bound=sample_mean-margin_of_errors\n",
    "upper_bound=sample_mean+margin_of_errors"
   ]
  },
  {
   "cell_type": "code",
   "execution_count": 10,
   "id": "e6c1d5ac",
   "metadata": {},
   "outputs": [
    {
     "name": "stdout",
     "output_type": "stream",
     "text": [
      "Confidence Interval (95.0%): [64.49540428433131,66.58215301315646]\n"
     ]
    }
   ],
   "source": [
    "print(f\"Confidence Interval ({confidence_level*100}%): [{lower_bound},{upper_bound}]\")"
   ]
  },
  {
   "cell_type": "code",
   "execution_count": 11,
   "id": "9c4a8ba8",
   "metadata": {},
   "outputs": [],
   "source": [
    "np.random.seed(42)\n",
    "group1_scores=np.random.normal(loc=70,scale=5,size=30)\n",
    "group2_scores=np.random.normal(loc=75,scale=5,size=30)"
   ]
  },
  {
   "cell_type": "code",
   "execution_count": 12,
   "id": "caac83af",
   "metadata": {},
   "outputs": [],
   "source": [
    "t_statistic,p_value=stats.ttest_ind(group1_scores,group2_scores)"
   ]
  },
  {
   "cell_type": "code",
   "execution_count": 13,
   "id": "bfc2ea69",
   "metadata": {},
   "outputs": [],
   "source": [
    "alpha=0.05"
   ]
  },
  {
   "cell_type": "code",
   "execution_count": 14,
   "id": "d3056487",
   "metadata": {},
   "outputs": [
    {
     "name": "stdout",
     "output_type": "stream",
     "text": [
      "T-test Results:\n",
      "T-statistic:\n"
     ]
    }
   ],
   "source": [
    "print(\"T-test Results:\")\n",
    "print(\"T-statistic:\",)"
   ]
  },
  {
   "cell_type": "code",
   "execution_count": 15,
   "id": "c73d28a7",
   "metadata": {},
   "outputs": [
    {
     "name": "stdout",
     "output_type": "stream",
     "text": [
      "Reject the null hypothesis. there is a significant difference between the means of the two groups.\n"
     ]
    }
   ],
   "source": [
    "if p_value<alpha:\n",
    "    print(\"Reject the null hypothesis. there is a significant difference between the means of the two groups.\")\n",
    "    \n",
    "else:\n",
    "    print(\"Fail to reject the null hypothesis. there is no significant difference between the means of the means of the two groups.\")"
   ]
  },
  {
   "cell_type": "markdown",
   "id": "7f0ac507",
   "metadata": {},
   "source": [
    "# PERFORM  TWO TAILED T-TEST"
   ]
  },
  {
   "cell_type": "code",
   "execution_count": 28,
   "id": "ce74e474",
   "metadata": {},
   "outputs": [],
   "source": [
    "t_statistic_2tail,p_value_2tail=stats.ttest_ind(group1_scores,group2_scores)"
   ]
  },
  {
   "cell_type": "markdown",
   "id": "e141e465",
   "metadata": {},
   "source": [
    "# "
   ]
  },
  {
   "cell_type": "code",
   "execution_count": 29,
   "id": "cbde70f6",
   "metadata": {},
   "outputs": [
    {
     "name": "stdout",
     "output_type": "stream",
     "text": [
      "two tailed test:\n",
      "T-statistic: -4.512913234547576\n",
      "P-value: 3.176506547469916e-05\n"
     ]
    }
   ],
   "source": [
    "print(\"two tailed test:\")\n",
    "print(\"T-statistic:\",t_statistic_2tail)\n",
    "print(\"P-value:\",p_value_2tail)"
   ]
  },
  {
   "cell_type": "markdown",
   "id": "2188b9ff",
   "metadata": {},
   "source": [
    "# print one tailed (right-tailed)test results"
   ]
  },
  {
   "cell_type": "code",
   "execution_count": 30,
   "id": "b56d68e5",
   "metadata": {},
   "outputs": [],
   "source": [
    "t_statistic_1tail_right,p_value_1tail_right=stats.ttest_ind(group1_scores,group2_scores,alternative=\"greater\")"
   ]
  },
  {
   "cell_type": "code",
   "execution_count": 31,
   "id": "ae08678c",
   "metadata": {},
   "outputs": [
    {
     "name": "stdout",
     "output_type": "stream",
     "text": [
      "\n",
      "One-tailed Test (Right-tailed):\n",
      "T-statistic: -4.512913234547576\n",
      "P_value: 0.9999841174672627\n"
     ]
    }
   ],
   "source": [
    "print(\"\\nOne-tailed Test (Right-tailed):\")\n",
    "print(\"T-statistic:\",t_statistic_1tail_right)\n",
    "print(\"P_value:\",p_value_1tail_right)"
   ]
  },
  {
   "cell_type": "markdown",
   "id": "ebf22bc6",
   "metadata": {},
   "source": [
    "# print one tailed (left-tailed)test results"
   ]
  },
  {
   "cell_type": "code",
   "execution_count": 25,
   "id": "c97d3263",
   "metadata": {},
   "outputs": [],
   "source": [
    "t_statistic_1tail_left,p_value_1tail_left=stats.ttest_ind(group1_scores,group2_scores,alternative=\"greater\")"
   ]
  },
  {
   "cell_type": "code",
   "execution_count": 27,
   "id": "d2ae7db2",
   "metadata": {},
   "outputs": [
    {
     "name": "stdout",
     "output_type": "stream",
     "text": [
      "\n",
      "One-tailed Test (left-tailed):\n",
      "T-statistic: -4.512913234547576\n",
      "P_value: 0.9999841174672627\n"
     ]
    }
   ],
   "source": [
    "print(\"\\nOne-tailed Test (left-tailed):\")\n",
    "print(\"T-statistic:\",t_statistic_1tail_left)\n",
    "print(\"P_value:\",p_value_1tail_left)"
   ]
  },
  {
   "cell_type": "code",
   "execution_count": null,
   "id": "2965b36c",
   "metadata": {},
   "outputs": [],
   "source": []
  }
 ],
 "metadata": {
  "kernelspec": {
   "display_name": "Python 3 (ipykernel)",
   "language": "python",
   "name": "python3"
  },
  "language_info": {
   "codemirror_mode": {
    "name": "ipython",
    "version": 3
   },
   "file_extension": ".py",
   "mimetype": "text/x-python",
   "name": "python",
   "nbconvert_exporter": "python",
   "pygments_lexer": "ipython3",
   "version": "3.11.4"
  }
 },
 "nbformat": 4,
 "nbformat_minor": 5
}
